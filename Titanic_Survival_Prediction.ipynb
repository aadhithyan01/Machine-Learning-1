{
  "nbformat": 4,
  "nbformat_minor": 0,
  "metadata": {
    "colab": {
      "name": "Titanic Survival Prediction.ipynb",
      "provenance": [],
      "authorship_tag": "ABX9TyPrq1BI+WY1aWL+b/gx1xg6",
      "include_colab_link": true
    },
    "kernelspec": {
      "name": "python3",
      "display_name": "Python 3"
    },
    "language_info": {
      "name": "python"
    }
  },
  "cells": [
    {
      "cell_type": "markdown",
      "metadata": {
        "id": "view-in-github",
        "colab_type": "text"
      },
      "source": [
        "<a href=\"https://colab.research.google.com/github/aadhithyan01/Machine-Learning-1/blob/master/Titanic_Survival_Prediction.ipynb\" target=\"_parent\"><img src=\"https://colab.research.google.com/assets/colab-badge.svg\" alt=\"Open In Colab\"/></a>"
      ]
    },
    {
      "cell_type": "markdown",
      "source": [
        "Importing Libaries"
      ],
      "metadata": {
        "id": "-yy72nKZXh1i"
      }
    },
    {
      "cell_type": "code",
      "execution_count": 107,
      "metadata": {
        "id": "7jd_qdlHXJfN"
      },
      "outputs": [],
      "source": [
        "import numpy as np\n",
        "import pandas as pd\n",
        "from sklearn.metrics import confusion_matrix, classification_report\n",
        "import matplotlib.pyplot as plt\n",
        "import seaborn as sea"
      ]
    },
    {
      "cell_type": "markdown",
      "source": [
        "Loading data"
      ],
      "metadata": {
        "id": "RUhmXW5AXljU"
      }
    },
    {
      "cell_type": "code",
      "source": [
        "df = pd.read_csv('/content/train.csv')\n",
        "df.head()"
      ],
      "metadata": {
        "colab": {
          "base_uri": "https://localhost:8080/",
          "height": 206
        },
        "id": "_Xp1ydumXnKR",
        "outputId": "96834bac-e534-4c4a-ba71-88650c5b25a7"
      },
      "execution_count": 108,
      "outputs": [
        {
          "output_type": "execute_result",
          "data": {
            "text/plain": [
              "   PassengerId  Survived  Pclass  \\\n",
              "0            1         0       3   \n",
              "1            2         1       1   \n",
              "2            3         1       3   \n",
              "3            4         1       1   \n",
              "4            5         0       3   \n",
              "\n",
              "                                                Name     Sex   Age  SibSp  \\\n",
              "0                            Braund, Mr. Owen Harris    male  22.0      1   \n",
              "1  Cumings, Mrs. John Bradley (Florence Briggs Th...  female  38.0      1   \n",
              "2                             Heikkinen, Miss. Laina  female  26.0      0   \n",
              "3       Futrelle, Mrs. Jacques Heath (Lily May Peel)  female  35.0      1   \n",
              "4                           Allen, Mr. William Henry    male  35.0      0   \n",
              "\n",
              "   Parch            Ticket     Fare Cabin Embarked  \n",
              "0      0         A/5 21171   7.2500   NaN        S  \n",
              "1      0          PC 17599  71.2833   C85        C  \n",
              "2      0  STON/O2. 3101282   7.9250   NaN        S  \n",
              "3      0            113803  53.1000  C123        S  \n",
              "4      0            373450   8.0500   NaN        S  "
            ],
            "text/html": [
              "\n",
              "  <div id=\"df-132a8539-22ef-4d92-87d1-6752dd59075b\">\n",
              "    <div class=\"colab-df-container\">\n",
              "      <div>\n",
              "<style scoped>\n",
              "    .dataframe tbody tr th:only-of-type {\n",
              "        vertical-align: middle;\n",
              "    }\n",
              "\n",
              "    .dataframe tbody tr th {\n",
              "        vertical-align: top;\n",
              "    }\n",
              "\n",
              "    .dataframe thead th {\n",
              "        text-align: right;\n",
              "    }\n",
              "</style>\n",
              "<table border=\"1\" class=\"dataframe\">\n",
              "  <thead>\n",
              "    <tr style=\"text-align: right;\">\n",
              "      <th></th>\n",
              "      <th>PassengerId</th>\n",
              "      <th>Survived</th>\n",
              "      <th>Pclass</th>\n",
              "      <th>Name</th>\n",
              "      <th>Sex</th>\n",
              "      <th>Age</th>\n",
              "      <th>SibSp</th>\n",
              "      <th>Parch</th>\n",
              "      <th>Ticket</th>\n",
              "      <th>Fare</th>\n",
              "      <th>Cabin</th>\n",
              "      <th>Embarked</th>\n",
              "    </tr>\n",
              "  </thead>\n",
              "  <tbody>\n",
              "    <tr>\n",
              "      <th>0</th>\n",
              "      <td>1</td>\n",
              "      <td>0</td>\n",
              "      <td>3</td>\n",
              "      <td>Braund, Mr. Owen Harris</td>\n",
              "      <td>male</td>\n",
              "      <td>22.0</td>\n",
              "      <td>1</td>\n",
              "      <td>0</td>\n",
              "      <td>A/5 21171</td>\n",
              "      <td>7.2500</td>\n",
              "      <td>NaN</td>\n",
              "      <td>S</td>\n",
              "    </tr>\n",
              "    <tr>\n",
              "      <th>1</th>\n",
              "      <td>2</td>\n",
              "      <td>1</td>\n",
              "      <td>1</td>\n",
              "      <td>Cumings, Mrs. John Bradley (Florence Briggs Th...</td>\n",
              "      <td>female</td>\n",
              "      <td>38.0</td>\n",
              "      <td>1</td>\n",
              "      <td>0</td>\n",
              "      <td>PC 17599</td>\n",
              "      <td>71.2833</td>\n",
              "      <td>C85</td>\n",
              "      <td>C</td>\n",
              "    </tr>\n",
              "    <tr>\n",
              "      <th>2</th>\n",
              "      <td>3</td>\n",
              "      <td>1</td>\n",
              "      <td>3</td>\n",
              "      <td>Heikkinen, Miss. Laina</td>\n",
              "      <td>female</td>\n",
              "      <td>26.0</td>\n",
              "      <td>0</td>\n",
              "      <td>0</td>\n",
              "      <td>STON/O2. 3101282</td>\n",
              "      <td>7.9250</td>\n",
              "      <td>NaN</td>\n",
              "      <td>S</td>\n",
              "    </tr>\n",
              "    <tr>\n",
              "      <th>3</th>\n",
              "      <td>4</td>\n",
              "      <td>1</td>\n",
              "      <td>1</td>\n",
              "      <td>Futrelle, Mrs. Jacques Heath (Lily May Peel)</td>\n",
              "      <td>female</td>\n",
              "      <td>35.0</td>\n",
              "      <td>1</td>\n",
              "      <td>0</td>\n",
              "      <td>113803</td>\n",
              "      <td>53.1000</td>\n",
              "      <td>C123</td>\n",
              "      <td>S</td>\n",
              "    </tr>\n",
              "    <tr>\n",
              "      <th>4</th>\n",
              "      <td>5</td>\n",
              "      <td>0</td>\n",
              "      <td>3</td>\n",
              "      <td>Allen, Mr. William Henry</td>\n",
              "      <td>male</td>\n",
              "      <td>35.0</td>\n",
              "      <td>0</td>\n",
              "      <td>0</td>\n",
              "      <td>373450</td>\n",
              "      <td>8.0500</td>\n",
              "      <td>NaN</td>\n",
              "      <td>S</td>\n",
              "    </tr>\n",
              "  </tbody>\n",
              "</table>\n",
              "</div>\n",
              "      <button class=\"colab-df-convert\" onclick=\"convertToInteractive('df-132a8539-22ef-4d92-87d1-6752dd59075b')\"\n",
              "              title=\"Convert this dataframe to an interactive table.\"\n",
              "              style=\"display:none;\">\n",
              "        \n",
              "  <svg xmlns=\"http://www.w3.org/2000/svg\" height=\"24px\"viewBox=\"0 0 24 24\"\n",
              "       width=\"24px\">\n",
              "    <path d=\"M0 0h24v24H0V0z\" fill=\"none\"/>\n",
              "    <path d=\"M18.56 5.44l.94 2.06.94-2.06 2.06-.94-2.06-.94-.94-2.06-.94 2.06-2.06.94zm-11 1L8.5 8.5l.94-2.06 2.06-.94-2.06-.94L8.5 2.5l-.94 2.06-2.06.94zm10 10l.94 2.06.94-2.06 2.06-.94-2.06-.94-.94-2.06-.94 2.06-2.06.94z\"/><path d=\"M17.41 7.96l-1.37-1.37c-.4-.4-.92-.59-1.43-.59-.52 0-1.04.2-1.43.59L10.3 9.45l-7.72 7.72c-.78.78-.78 2.05 0 2.83L4 21.41c.39.39.9.59 1.41.59.51 0 1.02-.2 1.41-.59l7.78-7.78 2.81-2.81c.8-.78.8-2.07 0-2.86zM5.41 20L4 18.59l7.72-7.72 1.47 1.35L5.41 20z\"/>\n",
              "  </svg>\n",
              "      </button>\n",
              "      \n",
              "  <style>\n",
              "    .colab-df-container {\n",
              "      display:flex;\n",
              "      flex-wrap:wrap;\n",
              "      gap: 12px;\n",
              "    }\n",
              "\n",
              "    .colab-df-convert {\n",
              "      background-color: #E8F0FE;\n",
              "      border: none;\n",
              "      border-radius: 50%;\n",
              "      cursor: pointer;\n",
              "      display: none;\n",
              "      fill: #1967D2;\n",
              "      height: 32px;\n",
              "      padding: 0 0 0 0;\n",
              "      width: 32px;\n",
              "    }\n",
              "\n",
              "    .colab-df-convert:hover {\n",
              "      background-color: #E2EBFA;\n",
              "      box-shadow: 0px 1px 2px rgba(60, 64, 67, 0.3), 0px 1px 3px 1px rgba(60, 64, 67, 0.15);\n",
              "      fill: #174EA6;\n",
              "    }\n",
              "\n",
              "    [theme=dark] .colab-df-convert {\n",
              "      background-color: #3B4455;\n",
              "      fill: #D2E3FC;\n",
              "    }\n",
              "\n",
              "    [theme=dark] .colab-df-convert:hover {\n",
              "      background-color: #434B5C;\n",
              "      box-shadow: 0px 1px 3px 1px rgba(0, 0, 0, 0.15);\n",
              "      filter: drop-shadow(0px 1px 2px rgba(0, 0, 0, 0.3));\n",
              "      fill: #FFFFFF;\n",
              "    }\n",
              "  </style>\n",
              "\n",
              "      <script>\n",
              "        const buttonEl =\n",
              "          document.querySelector('#df-132a8539-22ef-4d92-87d1-6752dd59075b button.colab-df-convert');\n",
              "        buttonEl.style.display =\n",
              "          google.colab.kernel.accessAllowed ? 'block' : 'none';\n",
              "\n",
              "        async function convertToInteractive(key) {\n",
              "          const element = document.querySelector('#df-132a8539-22ef-4d92-87d1-6752dd59075b');\n",
              "          const dataTable =\n",
              "            await google.colab.kernel.invokeFunction('convertToInteractive',\n",
              "                                                     [key], {});\n",
              "          if (!dataTable) return;\n",
              "\n",
              "          const docLinkHtml = 'Like what you see? Visit the ' +\n",
              "            '<a target=\"_blank\" href=https://colab.research.google.com/notebooks/data_table.ipynb>data table notebook</a>'\n",
              "            + ' to learn more about interactive tables.';\n",
              "          element.innerHTML = '';\n",
              "          dataTable['output_type'] = 'display_data';\n",
              "          await google.colab.output.renderOutput(dataTable, element);\n",
              "          const docLink = document.createElement('div');\n",
              "          docLink.innerHTML = docLinkHtml;\n",
              "          element.appendChild(docLink);\n",
              "        }\n",
              "      </script>\n",
              "    </div>\n",
              "  </div>\n",
              "  "
            ]
          },
          "metadata": {},
          "execution_count": 108
        }
      ]
    },
    {
      "cell_type": "markdown",
      "source": [
        "Finding Dimension of dataframe "
      ],
      "metadata": {
        "id": "pmGsyZkgczGo"
      }
    },
    {
      "cell_type": "code",
      "source": [
        "df.shape"
      ],
      "metadata": {
        "colab": {
          "base_uri": "https://localhost:8080/"
        },
        "id": "E5Bb2HhFX4W9",
        "outputId": "f15b2a1e-3590-4246-c4b7-5311fff4c5b9"
      },
      "execution_count": 109,
      "outputs": [
        {
          "output_type": "execute_result",
          "data": {
            "text/plain": [
              "(891, 12)"
            ]
          },
          "metadata": {},
          "execution_count": 109
        }
      ]
    },
    {
      "cell_type": "markdown",
      "source": [
        "Finding Null values in dataframe"
      ],
      "metadata": {
        "id": "sUwRzqAMcwC4"
      }
    },
    {
      "cell_type": "code",
      "source": [
        "df.isnull().sum()"
      ],
      "metadata": {
        "colab": {
          "base_uri": "https://localhost:8080/"
        },
        "id": "esGPn3P5YGb4",
        "outputId": "dfb94377-3f8c-4dd1-ebd9-553b591c2a74"
      },
      "execution_count": 110,
      "outputs": [
        {
          "output_type": "execute_result",
          "data": {
            "text/plain": [
              "PassengerId      0\n",
              "Survived         0\n",
              "Pclass           0\n",
              "Name             0\n",
              "Sex              0\n",
              "Age            177\n",
              "SibSp            0\n",
              "Parch            0\n",
              "Ticket           0\n",
              "Fare             0\n",
              "Cabin          687\n",
              "Embarked         2\n",
              "dtype: int64"
            ]
          },
          "metadata": {},
          "execution_count": 110
        }
      ]
    },
    {
      "cell_type": "markdown",
      "source": [
        "# Handling null values"
      ],
      "metadata": {
        "id": "tzqdAgohdArQ"
      }
    },
    {
      "cell_type": "markdown",
      "source": [
        "replacing null values in Age and Embarked columns with it's mode"
      ],
      "metadata": {
        "id": "J4bpwTRmdC4Q"
      }
    },
    {
      "cell_type": "code",
      "source": [
        "df[\"Age\"].mean()"
      ],
      "metadata": {
        "colab": {
          "base_uri": "https://localhost:8080/"
        },
        "id": "cBrJ1o7hY0ql",
        "outputId": "444486ac-4689-4141-c855-c6820bc1b89d"
      },
      "execution_count": 111,
      "outputs": [
        {
          "output_type": "execute_result",
          "data": {
            "text/plain": [
              "29.69911764705882"
            ]
          },
          "metadata": {},
          "execution_count": 111
        }
      ]
    },
    {
      "cell_type": "code",
      "source": [
        "df['Age'].fillna(30.0, inplace= True)"
      ],
      "metadata": {
        "id": "V4UzqPwiYXnS"
      },
      "execution_count": 112,
      "outputs": []
    },
    {
      "cell_type": "code",
      "source": [
        "df[\"Embarked\"].mode()"
      ],
      "metadata": {
        "colab": {
          "base_uri": "https://localhost:8080/"
        },
        "id": "XJdON0bYZfhi",
        "outputId": "686fb623-5e4c-4973-f07b-8f32ff6848e6"
      },
      "execution_count": 113,
      "outputs": [
        {
          "output_type": "execute_result",
          "data": {
            "text/plain": [
              "0    S\n",
              "dtype: object"
            ]
          },
          "metadata": {},
          "execution_count": 113
        }
      ]
    },
    {
      "cell_type": "code",
      "source": [
        "df[\"Embarked\"].fillna('S', inplace = True)"
      ],
      "metadata": {
        "id": "Ir2YCuJbaBQJ"
      },
      "execution_count": 114,
      "outputs": []
    },
    {
      "cell_type": "code",
      "source": [
        "df"
      ],
      "metadata": {
        "colab": {
          "base_uri": "https://localhost:8080/",
          "height": 424
        },
        "id": "O5oxz-jQa2vt",
        "outputId": "1128340a-4e54-4a3e-eef9-6f93001dcc77"
      },
      "execution_count": 115,
      "outputs": [
        {
          "output_type": "execute_result",
          "data": {
            "text/plain": [
              "     PassengerId  Survived  Pclass  \\\n",
              "0              1         0       3   \n",
              "1              2         1       1   \n",
              "2              3         1       3   \n",
              "3              4         1       1   \n",
              "4              5         0       3   \n",
              "..           ...       ...     ...   \n",
              "886          887         0       2   \n",
              "887          888         1       1   \n",
              "888          889         0       3   \n",
              "889          890         1       1   \n",
              "890          891         0       3   \n",
              "\n",
              "                                                  Name     Sex   Age  SibSp  \\\n",
              "0                              Braund, Mr. Owen Harris    male  22.0      1   \n",
              "1    Cumings, Mrs. John Bradley (Florence Briggs Th...  female  38.0      1   \n",
              "2                               Heikkinen, Miss. Laina  female  26.0      0   \n",
              "3         Futrelle, Mrs. Jacques Heath (Lily May Peel)  female  35.0      1   \n",
              "4                             Allen, Mr. William Henry    male  35.0      0   \n",
              "..                                                 ...     ...   ...    ...   \n",
              "886                              Montvila, Rev. Juozas    male  27.0      0   \n",
              "887                       Graham, Miss. Margaret Edith  female  19.0      0   \n",
              "888           Johnston, Miss. Catherine Helen \"Carrie\"  female  30.0      1   \n",
              "889                              Behr, Mr. Karl Howell    male  26.0      0   \n",
              "890                                Dooley, Mr. Patrick    male  32.0      0   \n",
              "\n",
              "     Parch            Ticket     Fare Cabin Embarked  \n",
              "0        0         A/5 21171   7.2500   NaN        S  \n",
              "1        0          PC 17599  71.2833   C85        C  \n",
              "2        0  STON/O2. 3101282   7.9250   NaN        S  \n",
              "3        0            113803  53.1000  C123        S  \n",
              "4        0            373450   8.0500   NaN        S  \n",
              "..     ...               ...      ...   ...      ...  \n",
              "886      0            211536  13.0000   NaN        S  \n",
              "887      0            112053  30.0000   B42        S  \n",
              "888      2        W./C. 6607  23.4500   NaN        S  \n",
              "889      0            111369  30.0000  C148        C  \n",
              "890      0            370376   7.7500   NaN        Q  \n",
              "\n",
              "[891 rows x 12 columns]"
            ],
            "text/html": [
              "\n",
              "  <div id=\"df-582b9fb1-6a27-4450-8806-3076fa5a9bc1\">\n",
              "    <div class=\"colab-df-container\">\n",
              "      <div>\n",
              "<style scoped>\n",
              "    .dataframe tbody tr th:only-of-type {\n",
              "        vertical-align: middle;\n",
              "    }\n",
              "\n",
              "    .dataframe tbody tr th {\n",
              "        vertical-align: top;\n",
              "    }\n",
              "\n",
              "    .dataframe thead th {\n",
              "        text-align: right;\n",
              "    }\n",
              "</style>\n",
              "<table border=\"1\" class=\"dataframe\">\n",
              "  <thead>\n",
              "    <tr style=\"text-align: right;\">\n",
              "      <th></th>\n",
              "      <th>PassengerId</th>\n",
              "      <th>Survived</th>\n",
              "      <th>Pclass</th>\n",
              "      <th>Name</th>\n",
              "      <th>Sex</th>\n",
              "      <th>Age</th>\n",
              "      <th>SibSp</th>\n",
              "      <th>Parch</th>\n",
              "      <th>Ticket</th>\n",
              "      <th>Fare</th>\n",
              "      <th>Cabin</th>\n",
              "      <th>Embarked</th>\n",
              "    </tr>\n",
              "  </thead>\n",
              "  <tbody>\n",
              "    <tr>\n",
              "      <th>0</th>\n",
              "      <td>1</td>\n",
              "      <td>0</td>\n",
              "      <td>3</td>\n",
              "      <td>Braund, Mr. Owen Harris</td>\n",
              "      <td>male</td>\n",
              "      <td>22.0</td>\n",
              "      <td>1</td>\n",
              "      <td>0</td>\n",
              "      <td>A/5 21171</td>\n",
              "      <td>7.2500</td>\n",
              "      <td>NaN</td>\n",
              "      <td>S</td>\n",
              "    </tr>\n",
              "    <tr>\n",
              "      <th>1</th>\n",
              "      <td>2</td>\n",
              "      <td>1</td>\n",
              "      <td>1</td>\n",
              "      <td>Cumings, Mrs. John Bradley (Florence Briggs Th...</td>\n",
              "      <td>female</td>\n",
              "      <td>38.0</td>\n",
              "      <td>1</td>\n",
              "      <td>0</td>\n",
              "      <td>PC 17599</td>\n",
              "      <td>71.2833</td>\n",
              "      <td>C85</td>\n",
              "      <td>C</td>\n",
              "    </tr>\n",
              "    <tr>\n",
              "      <th>2</th>\n",
              "      <td>3</td>\n",
              "      <td>1</td>\n",
              "      <td>3</td>\n",
              "      <td>Heikkinen, Miss. Laina</td>\n",
              "      <td>female</td>\n",
              "      <td>26.0</td>\n",
              "      <td>0</td>\n",
              "      <td>0</td>\n",
              "      <td>STON/O2. 3101282</td>\n",
              "      <td>7.9250</td>\n",
              "      <td>NaN</td>\n",
              "      <td>S</td>\n",
              "    </tr>\n",
              "    <tr>\n",
              "      <th>3</th>\n",
              "      <td>4</td>\n",
              "      <td>1</td>\n",
              "      <td>1</td>\n",
              "      <td>Futrelle, Mrs. Jacques Heath (Lily May Peel)</td>\n",
              "      <td>female</td>\n",
              "      <td>35.0</td>\n",
              "      <td>1</td>\n",
              "      <td>0</td>\n",
              "      <td>113803</td>\n",
              "      <td>53.1000</td>\n",
              "      <td>C123</td>\n",
              "      <td>S</td>\n",
              "    </tr>\n",
              "    <tr>\n",
              "      <th>4</th>\n",
              "      <td>5</td>\n",
              "      <td>0</td>\n",
              "      <td>3</td>\n",
              "      <td>Allen, Mr. William Henry</td>\n",
              "      <td>male</td>\n",
              "      <td>35.0</td>\n",
              "      <td>0</td>\n",
              "      <td>0</td>\n",
              "      <td>373450</td>\n",
              "      <td>8.0500</td>\n",
              "      <td>NaN</td>\n",
              "      <td>S</td>\n",
              "    </tr>\n",
              "    <tr>\n",
              "      <th>...</th>\n",
              "      <td>...</td>\n",
              "      <td>...</td>\n",
              "      <td>...</td>\n",
              "      <td>...</td>\n",
              "      <td>...</td>\n",
              "      <td>...</td>\n",
              "      <td>...</td>\n",
              "      <td>...</td>\n",
              "      <td>...</td>\n",
              "      <td>...</td>\n",
              "      <td>...</td>\n",
              "      <td>...</td>\n",
              "    </tr>\n",
              "    <tr>\n",
              "      <th>886</th>\n",
              "      <td>887</td>\n",
              "      <td>0</td>\n",
              "      <td>2</td>\n",
              "      <td>Montvila, Rev. Juozas</td>\n",
              "      <td>male</td>\n",
              "      <td>27.0</td>\n",
              "      <td>0</td>\n",
              "      <td>0</td>\n",
              "      <td>211536</td>\n",
              "      <td>13.0000</td>\n",
              "      <td>NaN</td>\n",
              "      <td>S</td>\n",
              "    </tr>\n",
              "    <tr>\n",
              "      <th>887</th>\n",
              "      <td>888</td>\n",
              "      <td>1</td>\n",
              "      <td>1</td>\n",
              "      <td>Graham, Miss. Margaret Edith</td>\n",
              "      <td>female</td>\n",
              "      <td>19.0</td>\n",
              "      <td>0</td>\n",
              "      <td>0</td>\n",
              "      <td>112053</td>\n",
              "      <td>30.0000</td>\n",
              "      <td>B42</td>\n",
              "      <td>S</td>\n",
              "    </tr>\n",
              "    <tr>\n",
              "      <th>888</th>\n",
              "      <td>889</td>\n",
              "      <td>0</td>\n",
              "      <td>3</td>\n",
              "      <td>Johnston, Miss. Catherine Helen \"Carrie\"</td>\n",
              "      <td>female</td>\n",
              "      <td>30.0</td>\n",
              "      <td>1</td>\n",
              "      <td>2</td>\n",
              "      <td>W./C. 6607</td>\n",
              "      <td>23.4500</td>\n",
              "      <td>NaN</td>\n",
              "      <td>S</td>\n",
              "    </tr>\n",
              "    <tr>\n",
              "      <th>889</th>\n",
              "      <td>890</td>\n",
              "      <td>1</td>\n",
              "      <td>1</td>\n",
              "      <td>Behr, Mr. Karl Howell</td>\n",
              "      <td>male</td>\n",
              "      <td>26.0</td>\n",
              "      <td>0</td>\n",
              "      <td>0</td>\n",
              "      <td>111369</td>\n",
              "      <td>30.0000</td>\n",
              "      <td>C148</td>\n",
              "      <td>C</td>\n",
              "    </tr>\n",
              "    <tr>\n",
              "      <th>890</th>\n",
              "      <td>891</td>\n",
              "      <td>0</td>\n",
              "      <td>3</td>\n",
              "      <td>Dooley, Mr. Patrick</td>\n",
              "      <td>male</td>\n",
              "      <td>32.0</td>\n",
              "      <td>0</td>\n",
              "      <td>0</td>\n",
              "      <td>370376</td>\n",
              "      <td>7.7500</td>\n",
              "      <td>NaN</td>\n",
              "      <td>Q</td>\n",
              "    </tr>\n",
              "  </tbody>\n",
              "</table>\n",
              "<p>891 rows × 12 columns</p>\n",
              "</div>\n",
              "      <button class=\"colab-df-convert\" onclick=\"convertToInteractive('df-582b9fb1-6a27-4450-8806-3076fa5a9bc1')\"\n",
              "              title=\"Convert this dataframe to an interactive table.\"\n",
              "              style=\"display:none;\">\n",
              "        \n",
              "  <svg xmlns=\"http://www.w3.org/2000/svg\" height=\"24px\"viewBox=\"0 0 24 24\"\n",
              "       width=\"24px\">\n",
              "    <path d=\"M0 0h24v24H0V0z\" fill=\"none\"/>\n",
              "    <path d=\"M18.56 5.44l.94 2.06.94-2.06 2.06-.94-2.06-.94-.94-2.06-.94 2.06-2.06.94zm-11 1L8.5 8.5l.94-2.06 2.06-.94-2.06-.94L8.5 2.5l-.94 2.06-2.06.94zm10 10l.94 2.06.94-2.06 2.06-.94-2.06-.94-.94-2.06-.94 2.06-2.06.94z\"/><path d=\"M17.41 7.96l-1.37-1.37c-.4-.4-.92-.59-1.43-.59-.52 0-1.04.2-1.43.59L10.3 9.45l-7.72 7.72c-.78.78-.78 2.05 0 2.83L4 21.41c.39.39.9.59 1.41.59.51 0 1.02-.2 1.41-.59l7.78-7.78 2.81-2.81c.8-.78.8-2.07 0-2.86zM5.41 20L4 18.59l7.72-7.72 1.47 1.35L5.41 20z\"/>\n",
              "  </svg>\n",
              "      </button>\n",
              "      \n",
              "  <style>\n",
              "    .colab-df-container {\n",
              "      display:flex;\n",
              "      flex-wrap:wrap;\n",
              "      gap: 12px;\n",
              "    }\n",
              "\n",
              "    .colab-df-convert {\n",
              "      background-color: #E8F0FE;\n",
              "      border: none;\n",
              "      border-radius: 50%;\n",
              "      cursor: pointer;\n",
              "      display: none;\n",
              "      fill: #1967D2;\n",
              "      height: 32px;\n",
              "      padding: 0 0 0 0;\n",
              "      width: 32px;\n",
              "    }\n",
              "\n",
              "    .colab-df-convert:hover {\n",
              "      background-color: #E2EBFA;\n",
              "      box-shadow: 0px 1px 2px rgba(60, 64, 67, 0.3), 0px 1px 3px 1px rgba(60, 64, 67, 0.15);\n",
              "      fill: #174EA6;\n",
              "    }\n",
              "\n",
              "    [theme=dark] .colab-df-convert {\n",
              "      background-color: #3B4455;\n",
              "      fill: #D2E3FC;\n",
              "    }\n",
              "\n",
              "    [theme=dark] .colab-df-convert:hover {\n",
              "      background-color: #434B5C;\n",
              "      box-shadow: 0px 1px 3px 1px rgba(0, 0, 0, 0.15);\n",
              "      filter: drop-shadow(0px 1px 2px rgba(0, 0, 0, 0.3));\n",
              "      fill: #FFFFFF;\n",
              "    }\n",
              "  </style>\n",
              "\n",
              "      <script>\n",
              "        const buttonEl =\n",
              "          document.querySelector('#df-582b9fb1-6a27-4450-8806-3076fa5a9bc1 button.colab-df-convert');\n",
              "        buttonEl.style.display =\n",
              "          google.colab.kernel.accessAllowed ? 'block' : 'none';\n",
              "\n",
              "        async function convertToInteractive(key) {\n",
              "          const element = document.querySelector('#df-582b9fb1-6a27-4450-8806-3076fa5a9bc1');\n",
              "          const dataTable =\n",
              "            await google.colab.kernel.invokeFunction('convertToInteractive',\n",
              "                                                     [key], {});\n",
              "          if (!dataTable) return;\n",
              "\n",
              "          const docLinkHtml = 'Like what you see? Visit the ' +\n",
              "            '<a target=\"_blank\" href=https://colab.research.google.com/notebooks/data_table.ipynb>data table notebook</a>'\n",
              "            + ' to learn more about interactive tables.';\n",
              "          element.innerHTML = '';\n",
              "          dataTable['output_type'] = 'display_data';\n",
              "          await google.colab.output.renderOutput(dataTable, element);\n",
              "          const docLink = document.createElement('div');\n",
              "          docLink.innerHTML = docLinkHtml;\n",
              "          element.appendChild(docLink);\n",
              "        }\n",
              "      </script>\n",
              "    </div>\n",
              "  </div>\n",
              "  "
            ]
          },
          "metadata": {},
          "execution_count": 115
        }
      ]
    },
    {
      "cell_type": "markdown",
      "source": [
        "Dropping \"Cabin\" column as it contains many null values"
      ],
      "metadata": {
        "id": "TgF1cKY6dME2"
      }
    },
    {
      "cell_type": "code",
      "source": [
        "df.drop([\"Cabin\"], axis = 1)"
      ],
      "metadata": {
        "colab": {
          "base_uri": "https://localhost:8080/",
          "height": 424
        },
        "id": "wqHokpSsaIln",
        "outputId": "1236da09-69ab-4f05-ffc0-f7dbeda2bca9"
      },
      "execution_count": 116,
      "outputs": [
        {
          "output_type": "execute_result",
          "data": {
            "text/plain": [
              "     PassengerId  Survived  Pclass  \\\n",
              "0              1         0       3   \n",
              "1              2         1       1   \n",
              "2              3         1       3   \n",
              "3              4         1       1   \n",
              "4              5         0       3   \n",
              "..           ...       ...     ...   \n",
              "886          887         0       2   \n",
              "887          888         1       1   \n",
              "888          889         0       3   \n",
              "889          890         1       1   \n",
              "890          891         0       3   \n",
              "\n",
              "                                                  Name     Sex   Age  SibSp  \\\n",
              "0                              Braund, Mr. Owen Harris    male  22.0      1   \n",
              "1    Cumings, Mrs. John Bradley (Florence Briggs Th...  female  38.0      1   \n",
              "2                               Heikkinen, Miss. Laina  female  26.0      0   \n",
              "3         Futrelle, Mrs. Jacques Heath (Lily May Peel)  female  35.0      1   \n",
              "4                             Allen, Mr. William Henry    male  35.0      0   \n",
              "..                                                 ...     ...   ...    ...   \n",
              "886                              Montvila, Rev. Juozas    male  27.0      0   \n",
              "887                       Graham, Miss. Margaret Edith  female  19.0      0   \n",
              "888           Johnston, Miss. Catherine Helen \"Carrie\"  female  30.0      1   \n",
              "889                              Behr, Mr. Karl Howell    male  26.0      0   \n",
              "890                                Dooley, Mr. Patrick    male  32.0      0   \n",
              "\n",
              "     Parch            Ticket     Fare Embarked  \n",
              "0        0         A/5 21171   7.2500        S  \n",
              "1        0          PC 17599  71.2833        C  \n",
              "2        0  STON/O2. 3101282   7.9250        S  \n",
              "3        0            113803  53.1000        S  \n",
              "4        0            373450   8.0500        S  \n",
              "..     ...               ...      ...      ...  \n",
              "886      0            211536  13.0000        S  \n",
              "887      0            112053  30.0000        S  \n",
              "888      2        W./C. 6607  23.4500        S  \n",
              "889      0            111369  30.0000        C  \n",
              "890      0            370376   7.7500        Q  \n",
              "\n",
              "[891 rows x 11 columns]"
            ],
            "text/html": [
              "\n",
              "  <div id=\"df-24aa110a-b79d-4734-a6b4-560de1aefddf\">\n",
              "    <div class=\"colab-df-container\">\n",
              "      <div>\n",
              "<style scoped>\n",
              "    .dataframe tbody tr th:only-of-type {\n",
              "        vertical-align: middle;\n",
              "    }\n",
              "\n",
              "    .dataframe tbody tr th {\n",
              "        vertical-align: top;\n",
              "    }\n",
              "\n",
              "    .dataframe thead th {\n",
              "        text-align: right;\n",
              "    }\n",
              "</style>\n",
              "<table border=\"1\" class=\"dataframe\">\n",
              "  <thead>\n",
              "    <tr style=\"text-align: right;\">\n",
              "      <th></th>\n",
              "      <th>PassengerId</th>\n",
              "      <th>Survived</th>\n",
              "      <th>Pclass</th>\n",
              "      <th>Name</th>\n",
              "      <th>Sex</th>\n",
              "      <th>Age</th>\n",
              "      <th>SibSp</th>\n",
              "      <th>Parch</th>\n",
              "      <th>Ticket</th>\n",
              "      <th>Fare</th>\n",
              "      <th>Embarked</th>\n",
              "    </tr>\n",
              "  </thead>\n",
              "  <tbody>\n",
              "    <tr>\n",
              "      <th>0</th>\n",
              "      <td>1</td>\n",
              "      <td>0</td>\n",
              "      <td>3</td>\n",
              "      <td>Braund, Mr. Owen Harris</td>\n",
              "      <td>male</td>\n",
              "      <td>22.0</td>\n",
              "      <td>1</td>\n",
              "      <td>0</td>\n",
              "      <td>A/5 21171</td>\n",
              "      <td>7.2500</td>\n",
              "      <td>S</td>\n",
              "    </tr>\n",
              "    <tr>\n",
              "      <th>1</th>\n",
              "      <td>2</td>\n",
              "      <td>1</td>\n",
              "      <td>1</td>\n",
              "      <td>Cumings, Mrs. John Bradley (Florence Briggs Th...</td>\n",
              "      <td>female</td>\n",
              "      <td>38.0</td>\n",
              "      <td>1</td>\n",
              "      <td>0</td>\n",
              "      <td>PC 17599</td>\n",
              "      <td>71.2833</td>\n",
              "      <td>C</td>\n",
              "    </tr>\n",
              "    <tr>\n",
              "      <th>2</th>\n",
              "      <td>3</td>\n",
              "      <td>1</td>\n",
              "      <td>3</td>\n",
              "      <td>Heikkinen, Miss. Laina</td>\n",
              "      <td>female</td>\n",
              "      <td>26.0</td>\n",
              "      <td>0</td>\n",
              "      <td>0</td>\n",
              "      <td>STON/O2. 3101282</td>\n",
              "      <td>7.9250</td>\n",
              "      <td>S</td>\n",
              "    </tr>\n",
              "    <tr>\n",
              "      <th>3</th>\n",
              "      <td>4</td>\n",
              "      <td>1</td>\n",
              "      <td>1</td>\n",
              "      <td>Futrelle, Mrs. Jacques Heath (Lily May Peel)</td>\n",
              "      <td>female</td>\n",
              "      <td>35.0</td>\n",
              "      <td>1</td>\n",
              "      <td>0</td>\n",
              "      <td>113803</td>\n",
              "      <td>53.1000</td>\n",
              "      <td>S</td>\n",
              "    </tr>\n",
              "    <tr>\n",
              "      <th>4</th>\n",
              "      <td>5</td>\n",
              "      <td>0</td>\n",
              "      <td>3</td>\n",
              "      <td>Allen, Mr. William Henry</td>\n",
              "      <td>male</td>\n",
              "      <td>35.0</td>\n",
              "      <td>0</td>\n",
              "      <td>0</td>\n",
              "      <td>373450</td>\n",
              "      <td>8.0500</td>\n",
              "      <td>S</td>\n",
              "    </tr>\n",
              "    <tr>\n",
              "      <th>...</th>\n",
              "      <td>...</td>\n",
              "      <td>...</td>\n",
              "      <td>...</td>\n",
              "      <td>...</td>\n",
              "      <td>...</td>\n",
              "      <td>...</td>\n",
              "      <td>...</td>\n",
              "      <td>...</td>\n",
              "      <td>...</td>\n",
              "      <td>...</td>\n",
              "      <td>...</td>\n",
              "    </tr>\n",
              "    <tr>\n",
              "      <th>886</th>\n",
              "      <td>887</td>\n",
              "      <td>0</td>\n",
              "      <td>2</td>\n",
              "      <td>Montvila, Rev. Juozas</td>\n",
              "      <td>male</td>\n",
              "      <td>27.0</td>\n",
              "      <td>0</td>\n",
              "      <td>0</td>\n",
              "      <td>211536</td>\n",
              "      <td>13.0000</td>\n",
              "      <td>S</td>\n",
              "    </tr>\n",
              "    <tr>\n",
              "      <th>887</th>\n",
              "      <td>888</td>\n",
              "      <td>1</td>\n",
              "      <td>1</td>\n",
              "      <td>Graham, Miss. Margaret Edith</td>\n",
              "      <td>female</td>\n",
              "      <td>19.0</td>\n",
              "      <td>0</td>\n",
              "      <td>0</td>\n",
              "      <td>112053</td>\n",
              "      <td>30.0000</td>\n",
              "      <td>S</td>\n",
              "    </tr>\n",
              "    <tr>\n",
              "      <th>888</th>\n",
              "      <td>889</td>\n",
              "      <td>0</td>\n",
              "      <td>3</td>\n",
              "      <td>Johnston, Miss. Catherine Helen \"Carrie\"</td>\n",
              "      <td>female</td>\n",
              "      <td>30.0</td>\n",
              "      <td>1</td>\n",
              "      <td>2</td>\n",
              "      <td>W./C. 6607</td>\n",
              "      <td>23.4500</td>\n",
              "      <td>S</td>\n",
              "    </tr>\n",
              "    <tr>\n",
              "      <th>889</th>\n",
              "      <td>890</td>\n",
              "      <td>1</td>\n",
              "      <td>1</td>\n",
              "      <td>Behr, Mr. Karl Howell</td>\n",
              "      <td>male</td>\n",
              "      <td>26.0</td>\n",
              "      <td>0</td>\n",
              "      <td>0</td>\n",
              "      <td>111369</td>\n",
              "      <td>30.0000</td>\n",
              "      <td>C</td>\n",
              "    </tr>\n",
              "    <tr>\n",
              "      <th>890</th>\n",
              "      <td>891</td>\n",
              "      <td>0</td>\n",
              "      <td>3</td>\n",
              "      <td>Dooley, Mr. Patrick</td>\n",
              "      <td>male</td>\n",
              "      <td>32.0</td>\n",
              "      <td>0</td>\n",
              "      <td>0</td>\n",
              "      <td>370376</td>\n",
              "      <td>7.7500</td>\n",
              "      <td>Q</td>\n",
              "    </tr>\n",
              "  </tbody>\n",
              "</table>\n",
              "<p>891 rows × 11 columns</p>\n",
              "</div>\n",
              "      <button class=\"colab-df-convert\" onclick=\"convertToInteractive('df-24aa110a-b79d-4734-a6b4-560de1aefddf')\"\n",
              "              title=\"Convert this dataframe to an interactive table.\"\n",
              "              style=\"display:none;\">\n",
              "        \n",
              "  <svg xmlns=\"http://www.w3.org/2000/svg\" height=\"24px\"viewBox=\"0 0 24 24\"\n",
              "       width=\"24px\">\n",
              "    <path d=\"M0 0h24v24H0V0z\" fill=\"none\"/>\n",
              "    <path d=\"M18.56 5.44l.94 2.06.94-2.06 2.06-.94-2.06-.94-.94-2.06-.94 2.06-2.06.94zm-11 1L8.5 8.5l.94-2.06 2.06-.94-2.06-.94L8.5 2.5l-.94 2.06-2.06.94zm10 10l.94 2.06.94-2.06 2.06-.94-2.06-.94-.94-2.06-.94 2.06-2.06.94z\"/><path d=\"M17.41 7.96l-1.37-1.37c-.4-.4-.92-.59-1.43-.59-.52 0-1.04.2-1.43.59L10.3 9.45l-7.72 7.72c-.78.78-.78 2.05 0 2.83L4 21.41c.39.39.9.59 1.41.59.51 0 1.02-.2 1.41-.59l7.78-7.78 2.81-2.81c.8-.78.8-2.07 0-2.86zM5.41 20L4 18.59l7.72-7.72 1.47 1.35L5.41 20z\"/>\n",
              "  </svg>\n",
              "      </button>\n",
              "      \n",
              "  <style>\n",
              "    .colab-df-container {\n",
              "      display:flex;\n",
              "      flex-wrap:wrap;\n",
              "      gap: 12px;\n",
              "    }\n",
              "\n",
              "    .colab-df-convert {\n",
              "      background-color: #E8F0FE;\n",
              "      border: none;\n",
              "      border-radius: 50%;\n",
              "      cursor: pointer;\n",
              "      display: none;\n",
              "      fill: #1967D2;\n",
              "      height: 32px;\n",
              "      padding: 0 0 0 0;\n",
              "      width: 32px;\n",
              "    }\n",
              "\n",
              "    .colab-df-convert:hover {\n",
              "      background-color: #E2EBFA;\n",
              "      box-shadow: 0px 1px 2px rgba(60, 64, 67, 0.3), 0px 1px 3px 1px rgba(60, 64, 67, 0.15);\n",
              "      fill: #174EA6;\n",
              "    }\n",
              "\n",
              "    [theme=dark] .colab-df-convert {\n",
              "      background-color: #3B4455;\n",
              "      fill: #D2E3FC;\n",
              "    }\n",
              "\n",
              "    [theme=dark] .colab-df-convert:hover {\n",
              "      background-color: #434B5C;\n",
              "      box-shadow: 0px 1px 3px 1px rgba(0, 0, 0, 0.15);\n",
              "      filter: drop-shadow(0px 1px 2px rgba(0, 0, 0, 0.3));\n",
              "      fill: #FFFFFF;\n",
              "    }\n",
              "  </style>\n",
              "\n",
              "      <script>\n",
              "        const buttonEl =\n",
              "          document.querySelector('#df-24aa110a-b79d-4734-a6b4-560de1aefddf button.colab-df-convert');\n",
              "        buttonEl.style.display =\n",
              "          google.colab.kernel.accessAllowed ? 'block' : 'none';\n",
              "\n",
              "        async function convertToInteractive(key) {\n",
              "          const element = document.querySelector('#df-24aa110a-b79d-4734-a6b4-560de1aefddf');\n",
              "          const dataTable =\n",
              "            await google.colab.kernel.invokeFunction('convertToInteractive',\n",
              "                                                     [key], {});\n",
              "          if (!dataTable) return;\n",
              "\n",
              "          const docLinkHtml = 'Like what you see? Visit the ' +\n",
              "            '<a target=\"_blank\" href=https://colab.research.google.com/notebooks/data_table.ipynb>data table notebook</a>'\n",
              "            + ' to learn more about interactive tables.';\n",
              "          element.innerHTML = '';\n",
              "          dataTable['output_type'] = 'display_data';\n",
              "          await google.colab.output.renderOutput(dataTable, element);\n",
              "          const docLink = document.createElement('div');\n",
              "          docLink.innerHTML = docLinkHtml;\n",
              "          element.appendChild(docLink);\n",
              "        }\n",
              "      </script>\n",
              "    </div>\n",
              "  </div>\n",
              "  "
            ]
          },
          "metadata": {},
          "execution_count": 116
        }
      ]
    },
    {
      "cell_type": "markdown",
      "source": [
        "#Visualising whether Passengers survived or not based on their sex "
      ],
      "metadata": {
        "id": "sHa0JzzYd8KU"
      }
    },
    {
      "cell_type": "code",
      "source": [
        "df[\"Sex\"].groupby(df['Survived']).value_counts().plot(kind='bar')"
      ],
      "metadata": {
        "colab": {
          "base_uri": "https://localhost:8080/",
          "height": 341
        },
        "id": "gARlfDI6bjq_",
        "outputId": "589eac13-1483-4103-d685-e2f70d7cebc1"
      },
      "execution_count": 117,
      "outputs": [
        {
          "output_type": "execute_result",
          "data": {
            "text/plain": [
              "<matplotlib.axes._subplots.AxesSubplot at 0x7f668bd01c50>"
            ]
          },
          "metadata": {},
          "execution_count": 117
        },
        {
          "output_type": "display_data",
          "data": {
            "text/plain": [
              "<Figure size 432x288 with 1 Axes>"
            ],
            "image/png": "[encoded data removed]"
          },
          "metadata": {
            "needs_background": "light"
          }
        }
      ]
    },
    {
      "cell_type": "markdown",
      "source": [
        "#Visualising whether Passengers survived or not based on their Pclass"
      ],
      "metadata": {
        "id": "GRGwOzUgeUxq"
      }
    },
    {
      "cell_type": "code",
      "source": [
        "df[\"Pclass\"].groupby(df['Survived']).value_counts().plot(kind='bar')"
      ],
      "metadata": {
        "colab": {
          "base_uri": "https://localhost:8080/",
          "height": 313
        },
        "id": "pajQXke8en1w",
        "outputId": "492885fb-f3d8-42a8-86de-079e318f710f"
      },
      "execution_count": 118,
      "outputs": [
        {
          "output_type": "execute_result",
          "data": {
            "text/plain": [
              "<matplotlib.axes._subplots.AxesSubplot at 0x7f668bc63310>"
            ]
          },
          "metadata": {},
          "execution_count": 118
        },
        {
          "output_type": "display_data",
          "data": {
            "text/plain": [
              "<Figure size 432x288 with 1 Axes>"
            ],
            "image/png": "[encoded data removed]"
          },
          "metadata": {
            "needs_background": "light"
          }
        }
      ]
    },
    {
      "cell_type": "markdown",
      "source": [
        "#Label Encoding"
      ],
      "metadata": {
        "id": "67vBiauPevqq"
      }
    },
    {
      "cell_type": "markdown",
      "source": [
        "Encoding Male to 1 and female to 0"
      ],
      "metadata": {
        "id": "gALyDoR2edVT"
      }
    },
    {
      "cell_type": "code",
      "source": [
        "from sklearn.preprocessing import LabelEncoder\n",
        "encoder = LabelEncoder()\n",
        "df[\"Sex\"] = encoder.fit_transform(df[\"Sex\"])\n",
        "df[\"Sex\"]"
      ],
      "metadata": {
        "colab": {
          "base_uri": "https://localhost:8080/"
        },
        "id": "kwRwUJpYgsoI",
        "outputId": "860ee02c-29bd-4954-94e8-3cc67a6500f7"
      },
      "execution_count": 119,
      "outputs": [
        {
          "output_type": "execute_result",
          "data": {
            "text/plain": [
              "0      1\n",
              "1      0\n",
              "2      0\n",
              "3      0\n",
              "4      1\n",
              "      ..\n",
              "886    1\n",
              "887    0\n",
              "888    0\n",
              "889    1\n",
              "890    1\n",
              "Name: Sex, Length: 891, dtype: int64"
            ]
          },
          "metadata": {},
          "execution_count": 119
        }
      ]
    },
    {
      "cell_type": "markdown",
      "source": [
        "Encoding \"Embarked\" class"
      ],
      "metadata": {
        "id": "OWfdbZ58eoqq"
      }
    },
    {
      "cell_type": "code",
      "source": [
        "df[\"Embarked\"] = encoder.fit_transform(df[\"Embarked\"])\n",
        "df[\"Embarked\"]"
      ],
      "metadata": {
        "colab": {
          "base_uri": "https://localhost:8080/"
        },
        "id": "YxZ2AlIRhNG7",
        "outputId": "9f046506-9151-4996-c6fc-19a291f62b6d"
      },
      "execution_count": 120,
      "outputs": [
        {
          "output_type": "execute_result",
          "data": {
            "text/plain": [
              "0      2\n",
              "1      0\n",
              "2      2\n",
              "3      2\n",
              "4      2\n",
              "      ..\n",
              "886    2\n",
              "887    2\n",
              "888    2\n",
              "889    0\n",
              "890    1\n",
              "Name: Embarked, Length: 891, dtype: int64"
            ]
          },
          "metadata": {},
          "execution_count": 120
        }
      ]
    },
    {
      "cell_type": "markdown",
      "source": [
        "Visualizing correlation beteween the columns of dataframe"
      ],
      "metadata": {
        "id": "zOR5Xg2XdvF8"
      }
    },
    {
      "cell_type": "code",
      "source": [
        "plt.figure(figsize=(12,10))\n",
        "corr = df.corr()\n",
        "sea.heatmap(corr, annot=True, cmap=plt.cm.Reds)\n",
        "plt.show()"
      ],
      "metadata": {
        "colab": {
          "base_uri": "https://localhost:8080/",
          "height": 596
        },
        "id": "WbsAb426h_4m",
        "outputId": "67d0171c-1109-426e-a6dc-d2bc4324f0e9"
      },
      "execution_count": 121,
      "outputs": [
        {
          "output_type": "display_data",
          "data": {
            "text/plain": [
              "<Figure size 864x720 with 2 Axes>"
            ],
            "image/png": "[encoded data removed]"
          },
          "metadata": {
            "needs_background": "light"
          }
        }
      ]
    },
    {
      "cell_type": "markdown",
      "source": [
        "# Splitting X and y"
      ],
      "metadata": {
        "id": "yBTPb5vhfDOZ"
      }
    },
    {
      "cell_type": "code",
      "source": [
        "y = df['Survived'] \n",
        "y"
      ],
      "metadata": {
        "colab": {
          "base_uri": "https://localhost:8080/"
        },
        "id": "cS1Er_Lti6KS",
        "outputId": "e045af54-8640-4d27-a10f-cb4929b036b9"
      },
      "execution_count": 122,
      "outputs": [
        {
          "output_type": "execute_result",
          "data": {
            "text/plain": [
              "0      0\n",
              "1      1\n",
              "2      1\n",
              "3      1\n",
              "4      0\n",
              "      ..\n",
              "886    0\n",
              "887    1\n",
              "888    0\n",
              "889    1\n",
              "890    0\n",
              "Name: Survived, Length: 891, dtype: int64"
            ]
          },
          "metadata": {},
          "execution_count": 122
        }
      ]
    },
    {
      "cell_type": "code",
      "source": [
        "X = df.drop(['Survived','Name','PassengerId','Ticket','Fare',\"Cabin\"],axis=1)\n",
        "X"
      ],
      "metadata": {
        "colab": {
          "base_uri": "https://localhost:8080/",
          "height": 424
        },
        "id": "PUaxSbKxjNMg",
        "outputId": "feac03d8-72bc-4d94-c17a-49db45952f45"
      },
      "execution_count": 123,
      "outputs": [
        {
          "output_type": "execute_result",
          "data": {
            "text/plain": [
              "     Pclass  Sex   Age  SibSp  Parch  Embarked\n",
              "0         3    1  22.0      1      0         2\n",
              "1         1    0  38.0      1      0         0\n",
              "2         3    0  26.0      0      0         2\n",
              "3         1    0  35.0      1      0         2\n",
              "4         3    1  35.0      0      0         2\n",
              "..      ...  ...   ...    ...    ...       ...\n",
              "886       2    1  27.0      0      0         2\n",
              "887       1    0  19.0      0      0         2\n",
              "888       3    0  30.0      1      2         2\n",
              "889       1    1  26.0      0      0         0\n",
              "890       3    1  32.0      0      0         1\n",
              "\n",
              "[891 rows x 6 columns]"
            ],
            "text/html": [
              "\n",
              "  <div id=\"df-eb1e4675-7c49-45ad-a932-cae835471b64\">\n",
              "    <div class=\"colab-df-container\">\n",
              "      <div>\n",
              "<style scoped>\n",
              "    .dataframe tbody tr th:only-of-type {\n",
              "        vertical-align: middle;\n",
              "    }\n",
              "\n",
              "    .dataframe tbody tr th {\n",
              "        vertical-align: top;\n",
              "    }\n",
              "\n",
              "    .dataframe thead th {\n",
              "        text-align: right;\n",
              "    }\n",
              "</style>\n",
              "<table border=\"1\" class=\"dataframe\">\n",
              "  <thead>\n",
              "    <tr style=\"text-align: right;\">\n",
              "      <th></th>\n",
              "      <th>Pclass</th>\n",
              "      <th>Sex</th>\n",
              "      <th>Age</th>\n",
              "      <th>SibSp</th>\n",
              "      <th>Parch</th>\n",
              "      <th>Embarked</th>\n",
              "    </tr>\n",
              "  </thead>\n",
              "  <tbody>\n",
              "    <tr>\n",
              "      <th>0</th>\n",
              "      <td>3</td>\n",
              "      <td>1</td>\n",
              "      <td>22.0</td>\n",
              "      <td>1</td>\n",
              "      <td>0</td>\n",
              "      <td>2</td>\n",
              "    </tr>\n",
              "    <tr>\n",
              "      <th>1</th>\n",
              "      <td>1</td>\n",
              "      <td>0</td>\n",
              "      <td>38.0</td>\n",
              "      <td>1</td>\n",
              "      <td>0</td>\n",
              "      <td>0</td>\n",
              "    </tr>\n",
              "    <tr>\n",
              "      <th>2</th>\n",
              "      <td>3</td>\n",
              "      <td>0</td>\n",
              "      <td>26.0</td>\n",
              "      <td>0</td>\n",
              "      <td>0</td>\n",
              "      <td>2</td>\n",
              "    </tr>\n",
              "    <tr>\n",
              "      <th>3</th>\n",
              "      <td>1</td>\n",
              "      <td>0</td>\n",
              "      <td>35.0</td>\n",
              "      <td>1</td>\n",
              "      <td>0</td>\n",
              "      <td>2</td>\n",
              "    </tr>\n",
              "    <tr>\n",
              "      <th>4</th>\n",
              "      <td>3</td>\n",
              "      <td>1</td>\n",
              "      <td>35.0</td>\n",
              "      <td>0</td>\n",
              "      <td>0</td>\n",
              "      <td>2</td>\n",
              "    </tr>\n",
              "    <tr>\n",
              "      <th>...</th>\n",
              "      <td>...</td>\n",
              "      <td>...</td>\n",
              "      <td>...</td>\n",
              "      <td>...</td>\n",
              "      <td>...</td>\n",
              "      <td>...</td>\n",
              "    </tr>\n",
              "    <tr>\n",
              "      <th>886</th>\n",
              "      <td>2</td>\n",
              "      <td>1</td>\n",
              "      <td>27.0</td>\n",
              "      <td>0</td>\n",
              "      <td>0</td>\n",
              "      <td>2</td>\n",
              "    </tr>\n",
              "    <tr>\n",
              "      <th>887</th>\n",
              "      <td>1</td>\n",
              "      <td>0</td>\n",
              "      <td>19.0</td>\n",
              "      <td>0</td>\n",
              "      <td>0</td>\n",
              "      <td>2</td>\n",
              "    </tr>\n",
              "    <tr>\n",
              "      <th>888</th>\n",
              "      <td>3</td>\n",
              "      <td>0</td>\n",
              "      <td>30.0</td>\n",
              "      <td>1</td>\n",
              "      <td>2</td>\n",
              "      <td>2</td>\n",
              "    </tr>\n",
              "    <tr>\n",
              "      <th>889</th>\n",
              "      <td>1</td>\n",
              "      <td>1</td>\n",
              "      <td>26.0</td>\n",
              "      <td>0</td>\n",
              "      <td>0</td>\n",
              "      <td>0</td>\n",
              "    </tr>\n",
              "    <tr>\n",
              "      <th>890</th>\n",
              "      <td>3</td>\n",
              "      <td>1</td>\n",
              "      <td>32.0</td>\n",
              "      <td>0</td>\n",
              "      <td>0</td>\n",
              "      <td>1</td>\n",
              "    </tr>\n",
              "  </tbody>\n",
              "</table>\n",
              "<p>891 rows × 6 columns</p>\n",
              "</div>\n",
              "      <button class=\"colab-df-convert\" onclick=\"convertToInteractive('df-eb1e4675-7c49-45ad-a932-cae835471b64')\"\n",
              "              title=\"Convert this dataframe to an interactive table.\"\n",
              "              style=\"display:none;\">\n",
              "        \n",
              "  <svg xmlns=\"http://www.w3.org/2000/svg\" height=\"24px\"viewBox=\"0 0 24 24\"\n",
              "       width=\"24px\">\n",
              "    <path d=\"M0 0h24v24H0V0z\" fill=\"none\"/>\n",
              "    <path d=\"M18.56 5.44l.94 2.06.94-2.06 2.06-.94-2.06-.94-.94-2.06-.94 2.06-2.06.94zm-11 1L8.5 8.5l.94-2.06 2.06-.94-2.06-.94L8.5 2.5l-.94 2.06-2.06.94zm10 10l.94 2.06.94-2.06 2.06-.94-2.06-.94-.94-2.06-.94 2.06-2.06.94z\"/><path d=\"M17.41 7.96l-1.37-1.37c-.4-.4-.92-.59-1.43-.59-.52 0-1.04.2-1.43.59L10.3 9.45l-7.72 7.72c-.78.78-.78 2.05 0 2.83L4 21.41c.39.39.9.59 1.41.59.51 0 1.02-.2 1.41-.59l7.78-7.78 2.81-2.81c.8-.78.8-2.07 0-2.86zM5.41 20L4 18.59l7.72-7.72 1.47 1.35L5.41 20z\"/>\n",
              "  </svg>\n",
              "      </button>\n",
              "      \n",
              "  <style>\n",
              "    .colab-df-container {\n",
              "      display:flex;\n",
              "      flex-wrap:wrap;\n",
              "      gap: 12px;\n",
              "    }\n",
              "\n",
              "    .colab-df-convert {\n",
              "      background-color: #E8F0FE;\n",
              "      border: none;\n",
              "      border-radius: 50%;\n",
              "      cursor: pointer;\n",
              "      display: none;\n",
              "      fill: #1967D2;\n",
              "      height: 32px;\n",
              "      padding: 0 0 0 0;\n",
              "      width: 32px;\n",
              "    }\n",
              "\n",
              "    .colab-df-convert:hover {\n",
              "      background-color: #E2EBFA;\n",
              "      box-shadow: 0px 1px 2px rgba(60, 64, 67, 0.3), 0px 1px 3px 1px rgba(60, 64, 67, 0.15);\n",
              "      fill: #174EA6;\n",
              "    }\n",
              "\n",
              "    [theme=dark] .colab-df-convert {\n",
              "      background-color: #3B4455;\n",
              "      fill: #D2E3FC;\n",
              "    }\n",
              "\n",
              "    [theme=dark] .colab-df-convert:hover {\n",
              "      background-color: #434B5C;\n",
              "      box-shadow: 0px 1px 3px 1px rgba(0, 0, 0, 0.15);\n",
              "      filter: drop-shadow(0px 1px 2px rgba(0, 0, 0, 0.3));\n",
              "      fill: #FFFFFF;\n",
              "    }\n",
              "  </style>\n",
              "\n",
              "      <script>\n",
              "        const buttonEl =\n",
              "          document.querySelector('#df-eb1e4675-7c49-45ad-a932-cae835471b64 button.colab-df-convert');\n",
              "        buttonEl.style.display =\n",
              "          google.colab.kernel.accessAllowed ? 'block' : 'none';\n",
              "\n",
              "        async function convertToInteractive(key) {\n",
              "          const element = document.querySelector('#df-eb1e4675-7c49-45ad-a932-cae835471b64');\n",
              "          const dataTable =\n",
              "            await google.colab.kernel.invokeFunction('convertToInteractive',\n",
              "                                                     [key], {});\n",
              "          if (!dataTable) return;\n",
              "\n",
              "          const docLinkHtml = 'Like what you see? Visit the ' +\n",
              "            '<a target=\"_blank\" href=https://colab.research.google.com/notebooks/data_table.ipynb>data table notebook</a>'\n",
              "            + ' to learn more about interactive tables.';\n",
              "          element.innerHTML = '';\n",
              "          dataTable['output_type'] = 'display_data';\n",
              "          await google.colab.output.renderOutput(dataTable, element);\n",
              "          const docLink = document.createElement('div');\n",
              "          docLink.innerHTML = docLinkHtml;\n",
              "          element.appendChild(docLink);\n",
              "        }\n",
              "      </script>\n",
              "    </div>\n",
              "  </div>\n",
              "  "
            ]
          },
          "metadata": {},
          "execution_count": 123
        }
      ]
    },
    {
      "cell_type": "markdown",
      "source": [
        "#Splitting data into training and testing data"
      ],
      "metadata": {
        "id": "3CSgdARrfUdw"
      }
    },
    {
      "cell_type": "code",
      "source": [
        "from sklearn.model_selection import train_test_split\n",
        "x_train, x_test, y_train, y_test = train_test_split(X, y,test_size = 0.25,random_state = 1)\n",
        "print(x_train, x_test, y_train, y_test)"
      ],
      "metadata": {
        "colab": {
          "base_uri": "https://localhost:8080/"
        },
        "id": "N8r4UjWmiREp",
        "outputId": "9f623441-34c6-4a4f-8331-ff0b6a426704"
      },
      "execution_count": 124,
      "outputs": [
        {
          "output_type": "stream",
          "name": "stdout",
          "text": [
            "     Pclass  Sex   Age  SibSp  Parch  Embarked\n",
            "35        1    1  42.0      1      0         2\n",
            "46        3    1  30.0      1      0         1\n",
            "453       1    1  49.0      1      0         0\n",
            "291       1    0  19.0      1      0         0\n",
            "748       1    1  19.0      1      0         2\n",
            "..      ...  ...   ...    ...    ...       ...\n",
            "715       3    1  19.0      0      0         2\n",
            "767       3    0  30.5      0      0         1\n",
            "72        2    1  21.0      0      0         2\n",
            "235       3    0  30.0      0      0         2\n",
            "37        3    1  21.0      0      0         2\n",
            "\n",
            "[668 rows x 6 columns]      Pclass  Sex   Age  SibSp  Parch  Embarked\n",
            "862       1    0  48.0      0      0         2\n",
            "223       3    1  30.0      0      0         2\n",
            "84        2    0  17.0      0      0         2\n",
            "680       3    0  30.0      0      0         1\n",
            "535       2    0   7.0      0      2         2\n",
            "..      ...  ...   ...    ...    ...       ...\n",
            "506       2    0  33.0      0      2         2\n",
            "467       1    1  56.0      0      0         2\n",
            "740       1    1  30.0      0      0         2\n",
            "354       3    1  30.0      0      0         0\n",
            "449       1    1  52.0      0      0         2\n",
            "\n",
            "[223 rows x 6 columns] 35     0\n",
            "46     0\n",
            "453    1\n",
            "291    1\n",
            "748    0\n",
            "      ..\n",
            "715    0\n",
            "767    0\n",
            "72     0\n",
            "235    0\n",
            "37     0\n",
            "Name: Survived, Length: 668, dtype: int64 862    1\n",
            "223    0\n",
            "84     1\n",
            "680    0\n",
            "535    1\n",
            "      ..\n",
            "506    1\n",
            "467    0\n",
            "740    1\n",
            "354    0\n",
            "449    1\n",
            "Name: Survived, Length: 223, dtype: int64\n"
          ]
        }
      ]
    },
    {
      "cell_type": "markdown",
      "source": [
        "#Training different ML models and fing their accuracy score"
      ],
      "metadata": {
        "id": "kun01TIKfjvn"
      }
    },
    {
      "cell_type": "markdown",
      "source": [
        "# 1. Random Forrest"
      ],
      "metadata": {
        "id": "tMCO-sJGfl0p"
      }
    },
    {
      "cell_type": "code",
      "source": [
        "from sklearn.ensemble import RandomForestClassifier\n",
        "rf = RandomForestClassifier()\n",
        "rf.fit(x_train,y_train)\n",
        "y_predict = rf.predict(x_test)"
      ],
      "metadata": {
        "id": "dmlkCynVkf5D"
      },
      "execution_count": 125,
      "outputs": []
    },
    {
      "cell_type": "code",
      "source": [
        "from sklearn.metrics import accuracy_score\n",
        "accuracy_score(y_predict,y_test)"
      ],
      "metadata": {
        "colab": {
          "base_uri": "https://localhost:8080/"
        },
        "id": "3_TRqoklluNy",
        "outputId": "7fe723e9-a918-4fcd-ed62-c040ade0ee8a"
      },
      "execution_count": 126,
      "outputs": [
        {
          "output_type": "execute_result",
          "data": {
            "text/plain": [
              "0.7757847533632287"
            ]
          },
          "metadata": {},
          "execution_count": 126
        }
      ]
    },
    {
      "cell_type": "code",
      "source": [
        "confusion_matrix(y_test,y_predict)"
      ],
      "metadata": {
        "colab": {
          "base_uri": "https://localhost:8080/"
        },
        "id": "P-07WmrhqCql",
        "outputId": "08fae244-790c-4857-96c7-d0e70c344319"
      },
      "execution_count": 127,
      "outputs": [
        {
          "output_type": "execute_result",
          "data": {
            "text/plain": [
              "array([[107,  21],\n",
              "       [ 29,  66]])"
            ]
          },
          "metadata": {},
          "execution_count": 127
        }
      ]
    },
    {
      "cell_type": "code",
      "source": [
        "print(classification_report(y_test, y_predict))"
      ],
      "metadata": {
        "colab": {
          "base_uri": "https://localhost:8080/"
        },
        "id": "FS-UYdkYqcXe",
        "outputId": "496c6b5e-cc54-4138-98ca-da541c840793"
      },
      "execution_count": 128,
      "outputs": [
        {
          "output_type": "stream",
          "name": "stdout",
          "text": [
            "              precision    recall  f1-score   support\n",
            "\n",
            "           0       0.79      0.84      0.81       128\n",
            "           1       0.76      0.69      0.73        95\n",
            "\n",
            "    accuracy                           0.78       223\n",
            "   macro avg       0.77      0.77      0.77       223\n",
            "weighted avg       0.77      0.78      0.77       223\n",
            "\n"
          ]
        }
      ]
    },
    {
      "cell_type": "markdown",
      "source": [
        "# 2. Naive Bayes"
      ],
      "metadata": {
        "id": "bFaBSTKif3an"
      }
    },
    {
      "cell_type": "code",
      "source": [
        "from sklearn.naive_bayes import GaussianNB\n",
        "NB = GaussianNB()\n",
        "NB.fit(x_train,y_train)\n",
        "NB_y_predict = NB.predict(x_test)"
      ],
      "metadata": {
        "id": "sFBkQedLmNeZ"
      },
      "execution_count": 129,
      "outputs": []
    },
    {
      "cell_type": "code",
      "source": [
        "accuracy_score(NB_y_predict,y_test)"
      ],
      "metadata": {
        "colab": {
          "base_uri": "https://localhost:8080/"
        },
        "id": "Bv15mxUenE3W",
        "outputId": "21ca423a-2f19-4321-93f2-93d420c1caf7"
      },
      "execution_count": 130,
      "outputs": [
        {
          "output_type": "execute_result",
          "data": {
            "text/plain": [
              "0.7668161434977578"
            ]
          },
          "metadata": {},
          "execution_count": 130
        }
      ]
    },
    {
      "cell_type": "code",
      "source": [
        "confusion_matrix(y_test,NB_y_predict)"
      ],
      "metadata": {
        "colab": {
          "base_uri": "https://localhost:8080/"
        },
        "id": "LNRm2YXUq422",
        "outputId": "940a6dbf-11ad-4af0-ec51-e3714eedcd14"
      },
      "execution_count": 131,
      "outputs": [
        {
          "output_type": "execute_result",
          "data": {
            "text/plain": [
              "array([[105,  23],\n",
              "       [ 29,  66]])"
            ]
          },
          "metadata": {},
          "execution_count": 131
        }
      ]
    },
    {
      "cell_type": "code",
      "source": [
        "print(classification_report(y_test, NB_y_predict))"
      ],
      "metadata": {
        "colab": {
          "base_uri": "https://localhost:8080/"
        },
        "id": "cTX20XlCrBYl",
        "outputId": "7ed8749d-3909-4ef1-c893-e1d586578c11"
      },
      "execution_count": 132,
      "outputs": [
        {
          "output_type": "stream",
          "name": "stdout",
          "text": [
            "              precision    recall  f1-score   support\n",
            "\n",
            "           0       0.78      0.82      0.80       128\n",
            "           1       0.74      0.69      0.72        95\n",
            "\n",
            "    accuracy                           0.77       223\n",
            "   macro avg       0.76      0.76      0.76       223\n",
            "weighted avg       0.77      0.77      0.77       223\n",
            "\n"
          ]
        }
      ]
    },
    {
      "cell_type": "markdown",
      "source": [
        "# 3. K Nearest Neighbours"
      ],
      "metadata": {
        "id": "ZSY6g_Xjfy9v"
      }
    },
    {
      "cell_type": "code",
      "source": [
        "from sklearn.neighbors import KNeighborsClassifier\n",
        "KNN=KNeighborsClassifier()\n",
        "KNN.fit(x_train,y_train)\n",
        "KNN_y_predict = KNN.predict(x_test)"
      ],
      "metadata": {
        "id": "29_93eNOnjAv"
      },
      "execution_count": 133,
      "outputs": []
    },
    {
      "cell_type": "code",
      "source": [
        "accuracy_score(KNN_y_predict,y_test)"
      ],
      "metadata": {
        "colab": {
          "base_uri": "https://localhost:8080/"
        },
        "id": "rZeOgVS1ouOr",
        "outputId": "8d6505a8-c759-43ed-f6e2-22fbb8f4695e"
      },
      "execution_count": 134,
      "outputs": [
        {
          "output_type": "execute_result",
          "data": {
            "text/plain": [
              "0.7443946188340808"
            ]
          },
          "metadata": {},
          "execution_count": 134
        }
      ]
    },
    {
      "cell_type": "code",
      "source": [
        "confusion_matrix(y_test,KNN_y_predict)"
      ],
      "metadata": {
        "colab": {
          "base_uri": "https://localhost:8080/"
        },
        "id": "luJK0nJLrn6U",
        "outputId": "2993c80b-e262-4c8e-ff69-43d7c37efb0a"
      },
      "execution_count": 135,
      "outputs": [
        {
          "output_type": "execute_result",
          "data": {
            "text/plain": [
              "array([[113,  15],\n",
              "       [ 42,  53]])"
            ]
          },
          "metadata": {},
          "execution_count": 135
        }
      ]
    },
    {
      "cell_type": "code",
      "source": [
        "print(classification_report(y_test, NB_y_predict))"
      ],
      "metadata": {
        "colab": {
          "base_uri": "https://localhost:8080/"
        },
        "id": "59fMUgVgrqpz",
        "outputId": "401131c2-5688-4678-df8c-217df56d3632"
      },
      "execution_count": 136,
      "outputs": [
        {
          "output_type": "stream",
          "name": "stdout",
          "text": [
            "              precision    recall  f1-score   support\n",
            "\n",
            "           0       0.78      0.82      0.80       128\n",
            "           1       0.74      0.69      0.72        95\n",
            "\n",
            "    accuracy                           0.77       223\n",
            "   macro avg       0.76      0.76      0.76       223\n",
            "weighted avg       0.77      0.77      0.77       223\n",
            "\n"
          ]
        }
      ]
    },
    {
      "cell_type": "markdown",
      "source": [
        "*We can clearly see that Random Forrest has more accuracy score with* **77.57 %** "
      ],
      "metadata": {
        "id": "ex182M2jgBk3"
      }
    },
    {
      "cell_type": "markdown",
      "source": [
        "Now we have prdeict the survival for the *test.csv* and we will repeat the same data preprocessing steps for this too "
      ],
      "metadata": {
        "id": "v8lEvAtpgm7u"
      }
    },
    {
      "cell_type": "code",
      "source": [
        "dftest = pd.read_csv('/content/test.csv')\n",
        "dftest.head()"
      ],
      "metadata": {
        "colab": {
          "base_uri": "https://localhost:8080/",
          "height": 206
        },
        "id": "8-ZiZS6wF3Rs",
        "outputId": "87c5b1cf-f3bf-49eb-e4a0-38370a7e1f86"
      },
      "execution_count": 137,
      "outputs": [
        {
          "output_type": "execute_result",
          "data": {
            "text/plain": [
              "   PassengerId  Pclass                                          Name     Sex  \\\n",
              "0          892       3                              Kelly, Mr. James    male   \n",
              "1          893       3              Wilkes, Mrs. James (Ellen Needs)  female   \n",
              "2          894       2                     Myles, Mr. Thomas Francis    male   \n",
              "3          895       3                              Wirz, Mr. Albert    male   \n",
              "4          896       3  Hirvonen, Mrs. Alexander (Helga E Lindqvist)  female   \n",
              "\n",
              "    Age  SibSp  Parch   Ticket     Fare Cabin Embarked  \n",
              "0  34.5      0      0   330911   7.8292   NaN        Q  \n",
              "1  47.0      1      0   363272   7.0000   NaN        S  \n",
              "2  62.0      0      0   240276   9.6875   NaN        Q  \n",
              "3  27.0      0      0   315154   8.6625   NaN        S  \n",
              "4  22.0      1      1  3101298  12.2875   NaN        S  "
            ],
            "text/html": [
              "\n",
              "  <div id=\"df-f6e26e75-93f1-4a59-a9ab-63553722f051\">\n",
              "    <div class=\"colab-df-container\">\n",
              "      <div>\n",
              "<style scoped>\n",
              "    .dataframe tbody tr th:only-of-type {\n",
              "        vertical-align: middle;\n",
              "    }\n",
              "\n",
              "    .dataframe tbody tr th {\n",
              "        vertical-align: top;\n",
              "    }\n",
              "\n",
              "    .dataframe thead th {\n",
              "        text-align: right;\n",
              "    }\n",
              "</style>\n",
              "<table border=\"1\" class=\"dataframe\">\n",
              "  <thead>\n",
              "    <tr style=\"text-align: right;\">\n",
              "      <th></th>\n",
              "      <th>PassengerId</th>\n",
              "      <th>Pclass</th>\n",
              "      <th>Name</th>\n",
              "      <th>Sex</th>\n",
              "      <th>Age</th>\n",
              "      <th>SibSp</th>\n",
              "      <th>Parch</th>\n",
              "      <th>Ticket</th>\n",
              "      <th>Fare</th>\n",
              "      <th>Cabin</th>\n",
              "      <th>Embarked</th>\n",
              "    </tr>\n",
              "  </thead>\n",
              "  <tbody>\n",
              "    <tr>\n",
              "      <th>0</th>\n",
              "      <td>892</td>\n",
              "      <td>3</td>\n",
              "      <td>Kelly, Mr. James</td>\n",
              "      <td>male</td>\n",
              "      <td>34.5</td>\n",
              "      <td>0</td>\n",
              "      <td>0</td>\n",
              "      <td>330911</td>\n",
              "      <td>7.8292</td>\n",
              "      <td>NaN</td>\n",
              "      <td>Q</td>\n",
              "    </tr>\n",
              "    <tr>\n",
              "      <th>1</th>\n",
              "      <td>893</td>\n",
              "      <td>3</td>\n",
              "      <td>Wilkes, Mrs. James (Ellen Needs)</td>\n",
              "      <td>female</td>\n",
              "      <td>47.0</td>\n",
              "      <td>1</td>\n",
              "      <td>0</td>\n",
              "      <td>363272</td>\n",
              "      <td>7.0000</td>\n",
              "      <td>NaN</td>\n",
              "      <td>S</td>\n",
              "    </tr>\n",
              "    <tr>\n",
              "      <th>2</th>\n",
              "      <td>894</td>\n",
              "      <td>2</td>\n",
              "      <td>Myles, Mr. Thomas Francis</td>\n",
              "      <td>male</td>\n",
              "      <td>62.0</td>\n",
              "      <td>0</td>\n",
              "      <td>0</td>\n",
              "      <td>240276</td>\n",
              "      <td>9.6875</td>\n",
              "      <td>NaN</td>\n",
              "      <td>Q</td>\n",
              "    </tr>\n",
              "    <tr>\n",
              "      <th>3</th>\n",
              "      <td>895</td>\n",
              "      <td>3</td>\n",
              "      <td>Wirz, Mr. Albert</td>\n",
              "      <td>male</td>\n",
              "      <td>27.0</td>\n",
              "      <td>0</td>\n",
              "      <td>0</td>\n",
              "      <td>315154</td>\n",
              "      <td>8.6625</td>\n",
              "      <td>NaN</td>\n",
              "      <td>S</td>\n",
              "    </tr>\n",
              "    <tr>\n",
              "      <th>4</th>\n",
              "      <td>896</td>\n",
              "      <td>3</td>\n",
              "      <td>Hirvonen, Mrs. Alexander (Helga E Lindqvist)</td>\n",
              "      <td>female</td>\n",
              "      <td>22.0</td>\n",
              "      <td>1</td>\n",
              "      <td>1</td>\n",
              "      <td>3101298</td>\n",
              "      <td>12.2875</td>\n",
              "      <td>NaN</td>\n",
              "      <td>S</td>\n",
              "    </tr>\n",
              "  </tbody>\n",
              "</table>\n",
              "</div>\n",
              "      <button class=\"colab-df-convert\" onclick=\"convertToInteractive('df-f6e26e75-93f1-4a59-a9ab-63553722f051')\"\n",
              "              title=\"Convert this dataframe to an interactive table.\"\n",
              "              style=\"display:none;\">\n",
              "        \n",
              "  <svg xmlns=\"http://www.w3.org/2000/svg\" height=\"24px\"viewBox=\"0 0 24 24\"\n",
              "       width=\"24px\">\n",
              "    <path d=\"M0 0h24v24H0V0z\" fill=\"none\"/>\n",
              "    <path d=\"M18.56 5.44l.94 2.06.94-2.06 2.06-.94-2.06-.94-.94-2.06-.94 2.06-2.06.94zm-11 1L8.5 8.5l.94-2.06 2.06-.94-2.06-.94L8.5 2.5l-.94 2.06-2.06.94zm10 10l.94 2.06.94-2.06 2.06-.94-2.06-.94-.94-2.06-.94 2.06-2.06.94z\"/><path d=\"M17.41 7.96l-1.37-1.37c-.4-.4-.92-.59-1.43-.59-.52 0-1.04.2-1.43.59L10.3 9.45l-7.72 7.72c-.78.78-.78 2.05 0 2.83L4 21.41c.39.39.9.59 1.41.59.51 0 1.02-.2 1.41-.59l7.78-7.78 2.81-2.81c.8-.78.8-2.07 0-2.86zM5.41 20L4 18.59l7.72-7.72 1.47 1.35L5.41 20z\"/>\n",
              "  </svg>\n",
              "      </button>\n",
              "      \n",
              "  <style>\n",
              "    .colab-df-container {\n",
              "      display:flex;\n",
              "      flex-wrap:wrap;\n",
              "      gap: 12px;\n",
              "    }\n",
              "\n",
              "    .colab-df-convert {\n",
              "      background-color: #E8F0FE;\n",
              "      border: none;\n",
              "      border-radius: 50%;\n",
              "      cursor: pointer;\n",
              "      display: none;\n",
              "      fill: #1967D2;\n",
              "      height: 32px;\n",
              "      padding: 0 0 0 0;\n",
              "      width: 32px;\n",
              "    }\n",
              "\n",
              "    .colab-df-convert:hover {\n",
              "      background-color: #E2EBFA;\n",
              "      box-shadow: 0px 1px 2px rgba(60, 64, 67, 0.3), 0px 1px 3px 1px rgba(60, 64, 67, 0.15);\n",
              "      fill: #174EA6;\n",
              "    }\n",
              "\n",
              "    [theme=dark] .colab-df-convert {\n",
              "      background-color: #3B4455;\n",
              "      fill: #D2E3FC;\n",
              "    }\n",
              "\n",
              "    [theme=dark] .colab-df-convert:hover {\n",
              "      background-color: #434B5C;\n",
              "      box-shadow: 0px 1px 3px 1px rgba(0, 0, 0, 0.15);\n",
              "      filter: drop-shadow(0px 1px 2px rgba(0, 0, 0, 0.3));\n",
              "      fill: #FFFFFF;\n",
              "    }\n",
              "  </style>\n",
              "\n",
              "      <script>\n",
              "        const buttonEl =\n",
              "          document.querySelector('#df-f6e26e75-93f1-4a59-a9ab-63553722f051 button.colab-df-convert');\n",
              "        buttonEl.style.display =\n",
              "          google.colab.kernel.accessAllowed ? 'block' : 'none';\n",
              "\n",
              "        async function convertToInteractive(key) {\n",
              "          const element = document.querySelector('#df-f6e26e75-93f1-4a59-a9ab-63553722f051');\n",
              "          const dataTable =\n",
              "            await google.colab.kernel.invokeFunction('convertToInteractive',\n",
              "                                                     [key], {});\n",
              "          if (!dataTable) return;\n",
              "\n",
              "          const docLinkHtml = 'Like what you see? Visit the ' +\n",
              "            '<a target=\"_blank\" href=https://colab.research.google.com/notebooks/data_table.ipynb>data table notebook</a>'\n",
              "            + ' to learn more about interactive tables.';\n",
              "          element.innerHTML = '';\n",
              "          dataTable['output_type'] = 'display_data';\n",
              "          await google.colab.output.renderOutput(dataTable, element);\n",
              "          const docLink = document.createElement('div');\n",
              "          docLink.innerHTML = docLinkHtml;\n",
              "          element.appendChild(docLink);\n",
              "        }\n",
              "      </script>\n",
              "    </div>\n",
              "  </div>\n",
              "  "
            ]
          },
          "metadata": {},
          "execution_count": 137
        }
      ]
    },
    {
      "cell_type": "code",
      "source": [
        "dftest.shape"
      ],
      "metadata": {
        "colab": {
          "base_uri": "https://localhost:8080/"
        },
        "id": "mcz1BQHRGDOk",
        "outputId": "a330009a-0163-43ff-983d-22d404be6e3d"
      },
      "execution_count": 138,
      "outputs": [
        {
          "output_type": "execute_result",
          "data": {
            "text/plain": [
              "(418, 11)"
            ]
          },
          "metadata": {},
          "execution_count": 138
        }
      ]
    },
    {
      "cell_type": "code",
      "source": [
        "dftest[\"Age\"].mean()"
      ],
      "metadata": {
        "colab": {
          "base_uri": "https://localhost:8080/"
        },
        "id": "WSv1vT-qHw09",
        "outputId": "86e3bd35-7e0b-4eb7-e053-14254def533e"
      },
      "execution_count": 139,
      "outputs": [
        {
          "output_type": "execute_result",
          "data": {
            "text/plain": [
              "30.272590361445783"
            ]
          },
          "metadata": {},
          "execution_count": 139
        }
      ]
    },
    {
      "cell_type": "code",
      "source": [
        "dftest['Age'].fillna(30.0, inplace= True)\n",
        "dftest['Age']"
      ],
      "metadata": {
        "colab": {
          "base_uri": "https://localhost:8080/"
        },
        "id": "Gbrn_5QOHsvt",
        "outputId": "98b6b713-b7b4-4114-c98d-d054b9eff9b1"
      },
      "execution_count": 140,
      "outputs": [
        {
          "output_type": "execute_result",
          "data": {
            "text/plain": [
              "0      34.5\n",
              "1      47.0\n",
              "2      62.0\n",
              "3      27.0\n",
              "4      22.0\n",
              "       ... \n",
              "413    30.0\n",
              "414    39.0\n",
              "415    38.5\n",
              "416    30.0\n",
              "417    30.0\n",
              "Name: Age, Length: 418, dtype: float64"
            ]
          },
          "metadata": {},
          "execution_count": 140
        }
      ]
    },
    {
      "cell_type": "code",
      "source": [
        "dftest[\"Sex\"] = encoder.fit_transform(dftest[\"Sex\"])\n",
        "dftest[\"Sex\"]"
      ],
      "metadata": {
        "colab": {
          "base_uri": "https://localhost:8080/"
        },
        "id": "PvYdsGXOIyI7",
        "outputId": "d80629c5-2589-45b5-c9d9-e92443b4bdb9"
      },
      "execution_count": 141,
      "outputs": [
        {
          "output_type": "execute_result",
          "data": {
            "text/plain": [
              "0      1\n",
              "1      0\n",
              "2      1\n",
              "3      1\n",
              "4      0\n",
              "      ..\n",
              "413    1\n",
              "414    0\n",
              "415    1\n",
              "416    1\n",
              "417    1\n",
              "Name: Sex, Length: 418, dtype: int64"
            ]
          },
          "metadata": {},
          "execution_count": 141
        }
      ]
    },
    {
      "cell_type": "code",
      "source": [
        "dftest[\"Embarked\"] = encoder.fit_transform(dftest[\"Embarked\"])\n",
        "dftest[\"Embarked\"]"
      ],
      "metadata": {
        "colab": {
          "base_uri": "https://localhost:8080/"
        },
        "id": "LU72eoH6I0GV",
        "outputId": "606d76fc-e46a-4fdd-a60d-f03bffe3f785"
      },
      "execution_count": 142,
      "outputs": [
        {
          "output_type": "execute_result",
          "data": {
            "text/plain": [
              "0      1\n",
              "1      2\n",
              "2      1\n",
              "3      2\n",
              "4      2\n",
              "      ..\n",
              "413    2\n",
              "414    0\n",
              "415    2\n",
              "416    2\n",
              "417    0\n",
              "Name: Embarked, Length: 418, dtype: int64"
            ]
          },
          "metadata": {},
          "execution_count": 142
        }
      ]
    },
    {
      "cell_type": "code",
      "source": [
        "test_X = dftest.drop(['Name','PassengerId','Ticket','Fare',\"Cabin\"],axis=1)\n",
        "test_X"
      ],
      "metadata": {
        "colab": {
          "base_uri": "https://localhost:8080/",
          "height": 424
        },
        "id": "BuSYCnj8GKNR",
        "outputId": "29ab0e18-86dc-4fb0-d3b7-3ef22ddcbc71"
      },
      "execution_count": 143,
      "outputs": [
        {
          "output_type": "execute_result",
          "data": {
            "text/plain": [
              "     Pclass  Sex   Age  SibSp  Parch  Embarked\n",
              "0         3    1  34.5      0      0         1\n",
              "1         3    0  47.0      1      0         2\n",
              "2         2    1  62.0      0      0         1\n",
              "3         3    1  27.0      0      0         2\n",
              "4         3    0  22.0      1      1         2\n",
              "..      ...  ...   ...    ...    ...       ...\n",
              "413       3    1  30.0      0      0         2\n",
              "414       1    0  39.0      0      0         0\n",
              "415       3    1  38.5      0      0         2\n",
              "416       3    1  30.0      0      0         2\n",
              "417       3    1  30.0      1      1         0\n",
              "\n",
              "[418 rows x 6 columns]"
            ],
            "text/html": [
              "\n",
              "  <div id=\"df-b8d69144-4a9f-4ab4-98a2-78356d963356\">\n",
              "    <div class=\"colab-df-container\">\n",
              "      <div>\n",
              "<style scoped>\n",
              "    .dataframe tbody tr th:only-of-type {\n",
              "        vertical-align: middle;\n",
              "    }\n",
              "\n",
              "    .dataframe tbody tr th {\n",
              "        vertical-align: top;\n",
              "    }\n",
              "\n",
              "    .dataframe thead th {\n",
              "        text-align: right;\n",
              "    }\n",
              "</style>\n",
              "<table border=\"1\" class=\"dataframe\">\n",
              "  <thead>\n",
              "    <tr style=\"text-align: right;\">\n",
              "      <th></th>\n",
              "      <th>Pclass</th>\n",
              "      <th>Sex</th>\n",
              "      <th>Age</th>\n",
              "      <th>SibSp</th>\n",
              "      <th>Parch</th>\n",
              "      <th>Embarked</th>\n",
              "    </tr>\n",
              "  </thead>\n",
              "  <tbody>\n",
              "    <tr>\n",
              "      <th>0</th>\n",
              "      <td>3</td>\n",
              "      <td>1</td>\n",
              "      <td>34.5</td>\n",
              "      <td>0</td>\n",
              "      <td>0</td>\n",
              "      <td>1</td>\n",
              "    </tr>\n",
              "    <tr>\n",
              "      <th>1</th>\n",
              "      <td>3</td>\n",
              "      <td>0</td>\n",
              "      <td>47.0</td>\n",
              "      <td>1</td>\n",
              "      <td>0</td>\n",
              "      <td>2</td>\n",
              "    </tr>\n",
              "    <tr>\n",
              "      <th>2</th>\n",
              "      <td>2</td>\n",
              "      <td>1</td>\n",
              "      <td>62.0</td>\n",
              "      <td>0</td>\n",
              "      <td>0</td>\n",
              "      <td>1</td>\n",
              "    </tr>\n",
              "    <tr>\n",
              "      <th>3</th>\n",
              "      <td>3</td>\n",
              "      <td>1</td>\n",
              "      <td>27.0</td>\n",
              "      <td>0</td>\n",
              "      <td>0</td>\n",
              "      <td>2</td>\n",
              "    </tr>\n",
              "    <tr>\n",
              "      <th>4</th>\n",
              "      <td>3</td>\n",
              "      <td>0</td>\n",
              "      <td>22.0</td>\n",
              "      <td>1</td>\n",
              "      <td>1</td>\n",
              "      <td>2</td>\n",
              "    </tr>\n",
              "    <tr>\n",
              "      <th>...</th>\n",
              "      <td>...</td>\n",
              "      <td>...</td>\n",
              "      <td>...</td>\n",
              "      <td>...</td>\n",
              "      <td>...</td>\n",
              "      <td>...</td>\n",
              "    </tr>\n",
              "    <tr>\n",
              "      <th>413</th>\n",
              "      <td>3</td>\n",
              "      <td>1</td>\n",
              "      <td>30.0</td>\n",
              "      <td>0</td>\n",
              "      <td>0</td>\n",
              "      <td>2</td>\n",
              "    </tr>\n",
              "    <tr>\n",
              "      <th>414</th>\n",
              "      <td>1</td>\n",
              "      <td>0</td>\n",
              "      <td>39.0</td>\n",
              "      <td>0</td>\n",
              "      <td>0</td>\n",
              "      <td>0</td>\n",
              "    </tr>\n",
              "    <tr>\n",
              "      <th>415</th>\n",
              "      <td>3</td>\n",
              "      <td>1</td>\n",
              "      <td>38.5</td>\n",
              "      <td>0</td>\n",
              "      <td>0</td>\n",
              "      <td>2</td>\n",
              "    </tr>\n",
              "    <tr>\n",
              "      <th>416</th>\n",
              "      <td>3</td>\n",
              "      <td>1</td>\n",
              "      <td>30.0</td>\n",
              "      <td>0</td>\n",
              "      <td>0</td>\n",
              "      <td>2</td>\n",
              "    </tr>\n",
              "    <tr>\n",
              "      <th>417</th>\n",
              "      <td>3</td>\n",
              "      <td>1</td>\n",
              "      <td>30.0</td>\n",
              "      <td>1</td>\n",
              "      <td>1</td>\n",
              "      <td>0</td>\n",
              "    </tr>\n",
              "  </tbody>\n",
              "</table>\n",
              "<p>418 rows × 6 columns</p>\n",
              "</div>\n",
              "      <button class=\"colab-df-convert\" onclick=\"convertToInteractive('df-b8d69144-4a9f-4ab4-98a2-78356d963356')\"\n",
              "              title=\"Convert this dataframe to an interactive table.\"\n",
              "              style=\"display:none;\">\n",
              "        \n",
              "  <svg xmlns=\"http://www.w3.org/2000/svg\" height=\"24px\"viewBox=\"0 0 24 24\"\n",
              "       width=\"24px\">\n",
              "    <path d=\"M0 0h24v24H0V0z\" fill=\"none\"/>\n",
              "    <path d=\"M18.56 5.44l.94 2.06.94-2.06 2.06-.94-2.06-.94-.94-2.06-.94 2.06-2.06.94zm-11 1L8.5 8.5l.94-2.06 2.06-.94-2.06-.94L8.5 2.5l-.94 2.06-2.06.94zm10 10l.94 2.06.94-2.06 2.06-.94-2.06-.94-.94-2.06-.94 2.06-2.06.94z\"/><path d=\"M17.41 7.96l-1.37-1.37c-.4-.4-.92-.59-1.43-.59-.52 0-1.04.2-1.43.59L10.3 9.45l-7.72 7.72c-.78.78-.78 2.05 0 2.83L4 21.41c.39.39.9.59 1.41.59.51 0 1.02-.2 1.41-.59l7.78-7.78 2.81-2.81c.8-.78.8-2.07 0-2.86zM5.41 20L4 18.59l7.72-7.72 1.47 1.35L5.41 20z\"/>\n",
              "  </svg>\n",
              "      </button>\n",
              "      \n",
              "  <style>\n",
              "    .colab-df-container {\n",
              "      display:flex;\n",
              "      flex-wrap:wrap;\n",
              "      gap: 12px;\n",
              "    }\n",
              "\n",
              "    .colab-df-convert {\n",
              "      background-color: #E8F0FE;\n",
              "      border: none;\n",
              "      border-radius: 50%;\n",
              "      cursor: pointer;\n",
              "      display: none;\n",
              "      fill: #1967D2;\n",
              "      height: 32px;\n",
              "      padding: 0 0 0 0;\n",
              "      width: 32px;\n",
              "    }\n",
              "\n",
              "    .colab-df-convert:hover {\n",
              "      background-color: #E2EBFA;\n",
              "      box-shadow: 0px 1px 2px rgba(60, 64, 67, 0.3), 0px 1px 3px 1px rgba(60, 64, 67, 0.15);\n",
              "      fill: #174EA6;\n",
              "    }\n",
              "\n",
              "    [theme=dark] .colab-df-convert {\n",
              "      background-color: #3B4455;\n",
              "      fill: #D2E3FC;\n",
              "    }\n",
              "\n",
              "    [theme=dark] .colab-df-convert:hover {\n",
              "      background-color: #434B5C;\n",
              "      box-shadow: 0px 1px 3px 1px rgba(0, 0, 0, 0.15);\n",
              "      filter: drop-shadow(0px 1px 2px rgba(0, 0, 0, 0.3));\n",
              "      fill: #FFFFFF;\n",
              "    }\n",
              "  </style>\n",
              "\n",
              "      <script>\n",
              "        const buttonEl =\n",
              "          document.querySelector('#df-b8d69144-4a9f-4ab4-98a2-78356d963356 button.colab-df-convert');\n",
              "        buttonEl.style.display =\n",
              "          google.colab.kernel.accessAllowed ? 'block' : 'none';\n",
              "\n",
              "        async function convertToInteractive(key) {\n",
              "          const element = document.querySelector('#df-b8d69144-4a9f-4ab4-98a2-78356d963356');\n",
              "          const dataTable =\n",
              "            await google.colab.kernel.invokeFunction('convertToInteractive',\n",
              "                                                     [key], {});\n",
              "          if (!dataTable) return;\n",
              "\n",
              "          const docLinkHtml = 'Like what you see? Visit the ' +\n",
              "            '<a target=\"_blank\" href=https://colab.research.google.com/notebooks/data_table.ipynb>data table notebook</a>'\n",
              "            + ' to learn more about interactive tables.';\n",
              "          element.innerHTML = '';\n",
              "          dataTable['output_type'] = 'display_data';\n",
              "          await google.colab.output.renderOutput(dataTable, element);\n",
              "          const docLink = document.createElement('div');\n",
              "          docLink.innerHTML = docLinkHtml;\n",
              "          element.appendChild(docLink);\n",
              "        }\n",
              "      </script>\n",
              "    </div>\n",
              "  </div>\n",
              "  "
            ]
          },
          "metadata": {},
          "execution_count": 143
        }
      ]
    },
    {
      "cell_type": "code",
      "source": [
        "dftest[\"Age\"].head(50)"
      ],
      "metadata": {
        "colab": {
          "base_uri": "https://localhost:8080/"
        },
        "id": "q7VBkxr_G5pF",
        "outputId": "2eb16ad8-7940-4000-89d7-84fe8818531a"
      },
      "execution_count": 144,
      "outputs": [
        {
          "output_type": "execute_result",
          "data": {
            "text/plain": [
              "0     34.5\n",
              "1     47.0\n",
              "2     62.0\n",
              "3     27.0\n",
              "4     22.0\n",
              "5     14.0\n",
              "6     30.0\n",
              "7     26.0\n",
              "8     18.0\n",
              "9     21.0\n",
              "10    30.0\n",
              "11    46.0\n",
              "12    23.0\n",
              "13    63.0\n",
              "14    47.0\n",
              "15    24.0\n",
              "16    35.0\n",
              "17    21.0\n",
              "18    27.0\n",
              "19    45.0\n",
              "20    55.0\n",
              "21     9.0\n",
              "22    30.0\n",
              "23    21.0\n",
              "24    48.0\n",
              "25    50.0\n",
              "26    22.0\n",
              "27    22.5\n",
              "28    41.0\n",
              "29    30.0\n",
              "30    50.0\n",
              "31    24.0\n",
              "32    33.0\n",
              "33    30.0\n",
              "34    30.0\n",
              "35    18.5\n",
              "36    30.0\n",
              "37    21.0\n",
              "38    25.0\n",
              "39    30.0\n",
              "40    39.0\n",
              "41    30.0\n",
              "42    41.0\n",
              "43    30.0\n",
              "44    45.0\n",
              "45    25.0\n",
              "46    45.0\n",
              "47    30.0\n",
              "48    60.0\n",
              "49    36.0\n",
              "Name: Age, dtype: float64"
            ]
          },
          "metadata": {},
          "execution_count": 144
        }
      ]
    },
    {
      "cell_type": "code",
      "source": [
        "test_X.isnull().sum()"
      ],
      "metadata": {
        "colab": {
          "base_uri": "https://localhost:8080/"
        },
        "id": "KiZUQOA3HjId",
        "outputId": "9e2c5930-c82b-4787-b859-265aabeaac1f"
      },
      "execution_count": 145,
      "outputs": [
        {
          "output_type": "execute_result",
          "data": {
            "text/plain": [
              "Pclass      0\n",
              "Sex         0\n",
              "Age         0\n",
              "SibSp       0\n",
              "Parch       0\n",
              "Embarked    0\n",
              "dtype: int64"
            ]
          },
          "metadata": {},
          "execution_count": 145
        }
      ]
    },
    {
      "cell_type": "code",
      "source": [
        "test_X"
      ],
      "metadata": {
        "colab": {
          "base_uri": "https://localhost:8080/",
          "height": 424
        },
        "id": "VBPQVML5IrRj",
        "outputId": "7fb5133f-741c-4c50-9c4d-f0de8312ad82"
      },
      "execution_count": 146,
      "outputs": [
        {
          "output_type": "execute_result",
          "data": {
            "text/plain": [
              "     Pclass  Sex   Age  SibSp  Parch  Embarked\n",
              "0         3    1  34.5      0      0         1\n",
              "1         3    0  47.0      1      0         2\n",
              "2         2    1  62.0      0      0         1\n",
              "3         3    1  27.0      0      0         2\n",
              "4         3    0  22.0      1      1         2\n",
              "..      ...  ...   ...    ...    ...       ...\n",
              "413       3    1  30.0      0      0         2\n",
              "414       1    0  39.0      0      0         0\n",
              "415       3    1  38.5      0      0         2\n",
              "416       3    1  30.0      0      0         2\n",
              "417       3    1  30.0      1      1         0\n",
              "\n",
              "[418 rows x 6 columns]"
            ],
            "text/html": [
              "\n",
              "  <div id=\"df-73d92746-90c6-41c5-a9af-e4466ee6f24a\">\n",
              "    <div class=\"colab-df-container\">\n",
              "      <div>\n",
              "<style scoped>\n",
              "    .dataframe tbody tr th:only-of-type {\n",
              "        vertical-align: middle;\n",
              "    }\n",
              "\n",
              "    .dataframe tbody tr th {\n",
              "        vertical-align: top;\n",
              "    }\n",
              "\n",
              "    .dataframe thead th {\n",
              "        text-align: right;\n",
              "    }\n",
              "</style>\n",
              "<table border=\"1\" class=\"dataframe\">\n",
              "  <thead>\n",
              "    <tr style=\"text-align: right;\">\n",
              "      <th></th>\n",
              "      <th>Pclass</th>\n",
              "      <th>Sex</th>\n",
              "      <th>Age</th>\n",
              "      <th>SibSp</th>\n",
              "      <th>Parch</th>\n",
              "      <th>Embarked</th>\n",
              "    </tr>\n",
              "  </thead>\n",
              "  <tbody>\n",
              "    <tr>\n",
              "      <th>0</th>\n",
              "      <td>3</td>\n",
              "      <td>1</td>\n",
              "      <td>34.5</td>\n",
              "      <td>0</td>\n",
              "      <td>0</td>\n",
              "      <td>1</td>\n",
              "    </tr>\n",
              "    <tr>\n",
              "      <th>1</th>\n",
              "      <td>3</td>\n",
              "      <td>0</td>\n",
              "      <td>47.0</td>\n",
              "      <td>1</td>\n",
              "      <td>0</td>\n",
              "      <td>2</td>\n",
              "    </tr>\n",
              "    <tr>\n",
              "      <th>2</th>\n",
              "      <td>2</td>\n",
              "      <td>1</td>\n",
              "      <td>62.0</td>\n",
              "      <td>0</td>\n",
              "      <td>0</td>\n",
              "      <td>1</td>\n",
              "    </tr>\n",
              "    <tr>\n",
              "      <th>3</th>\n",
              "      <td>3</td>\n",
              "      <td>1</td>\n",
              "      <td>27.0</td>\n",
              "      <td>0</td>\n",
              "      <td>0</td>\n",
              "      <td>2</td>\n",
              "    </tr>\n",
              "    <tr>\n",
              "      <th>4</th>\n",
              "      <td>3</td>\n",
              "      <td>0</td>\n",
              "      <td>22.0</td>\n",
              "      <td>1</td>\n",
              "      <td>1</td>\n",
              "      <td>2</td>\n",
              "    </tr>\n",
              "    <tr>\n",
              "      <th>...</th>\n",
              "      <td>...</td>\n",
              "      <td>...</td>\n",
              "      <td>...</td>\n",
              "      <td>...</td>\n",
              "      <td>...</td>\n",
              "      <td>...</td>\n",
              "    </tr>\n",
              "    <tr>\n",
              "      <th>413</th>\n",
              "      <td>3</td>\n",
              "      <td>1</td>\n",
              "      <td>30.0</td>\n",
              "      <td>0</td>\n",
              "      <td>0</td>\n",
              "      <td>2</td>\n",
              "    </tr>\n",
              "    <tr>\n",
              "      <th>414</th>\n",
              "      <td>1</td>\n",
              "      <td>0</td>\n",
              "      <td>39.0</td>\n",
              "      <td>0</td>\n",
              "      <td>0</td>\n",
              "      <td>0</td>\n",
              "    </tr>\n",
              "    <tr>\n",
              "      <th>415</th>\n",
              "      <td>3</td>\n",
              "      <td>1</td>\n",
              "      <td>38.5</td>\n",
              "      <td>0</td>\n",
              "      <td>0</td>\n",
              "      <td>2</td>\n",
              "    </tr>\n",
              "    <tr>\n",
              "      <th>416</th>\n",
              "      <td>3</td>\n",
              "      <td>1</td>\n",
              "      <td>30.0</td>\n",
              "      <td>0</td>\n",
              "      <td>0</td>\n",
              "      <td>2</td>\n",
              "    </tr>\n",
              "    <tr>\n",
              "      <th>417</th>\n",
              "      <td>3</td>\n",
              "      <td>1</td>\n",
              "      <td>30.0</td>\n",
              "      <td>1</td>\n",
              "      <td>1</td>\n",
              "      <td>0</td>\n",
              "    </tr>\n",
              "  </tbody>\n",
              "</table>\n",
              "<p>418 rows × 6 columns</p>\n",
              "</div>\n",
              "      <button class=\"colab-df-convert\" onclick=\"convertToInteractive('df-73d92746-90c6-41c5-a9af-e4466ee6f24a')\"\n",
              "              title=\"Convert this dataframe to an interactive table.\"\n",
              "              style=\"display:none;\">\n",
              "        \n",
              "  <svg xmlns=\"http://www.w3.org/2000/svg\" height=\"24px\"viewBox=\"0 0 24 24\"\n",
              "       width=\"24px\">\n",
              "    <path d=\"M0 0h24v24H0V0z\" fill=\"none\"/>\n",
              "    <path d=\"M18.56 5.44l.94 2.06.94-2.06 2.06-.94-2.06-.94-.94-2.06-.94 2.06-2.06.94zm-11 1L8.5 8.5l.94-2.06 2.06-.94-2.06-.94L8.5 2.5l-.94 2.06-2.06.94zm10 10l.94 2.06.94-2.06 2.06-.94-2.06-.94-.94-2.06-.94 2.06-2.06.94z\"/><path d=\"M17.41 7.96l-1.37-1.37c-.4-.4-.92-.59-1.43-.59-.52 0-1.04.2-1.43.59L10.3 9.45l-7.72 7.72c-.78.78-.78 2.05 0 2.83L4 21.41c.39.39.9.59 1.41.59.51 0 1.02-.2 1.41-.59l7.78-7.78 2.81-2.81c.8-.78.8-2.07 0-2.86zM5.41 20L4 18.59l7.72-7.72 1.47 1.35L5.41 20z\"/>\n",
              "  </svg>\n",
              "      </button>\n",
              "      \n",
              "  <style>\n",
              "    .colab-df-container {\n",
              "      display:flex;\n",
              "      flex-wrap:wrap;\n",
              "      gap: 12px;\n",
              "    }\n",
              "\n",
              "    .colab-df-convert {\n",
              "      background-color: #E8F0FE;\n",
              "      border: none;\n",
              "      border-radius: 50%;\n",
              "      cursor: pointer;\n",
              "      display: none;\n",
              "      fill: #1967D2;\n",
              "      height: 32px;\n",
              "      padding: 0 0 0 0;\n",
              "      width: 32px;\n",
              "    }\n",
              "\n",
              "    .colab-df-convert:hover {\n",
              "      background-color: #E2EBFA;\n",
              "      box-shadow: 0px 1px 2px rgba(60, 64, 67, 0.3), 0px 1px 3px 1px rgba(60, 64, 67, 0.15);\n",
              "      fill: #174EA6;\n",
              "    }\n",
              "\n",
              "    [theme=dark] .colab-df-convert {\n",
              "      background-color: #3B4455;\n",
              "      fill: #D2E3FC;\n",
              "    }\n",
              "\n",
              "    [theme=dark] .colab-df-convert:hover {\n",
              "      background-color: #434B5C;\n",
              "      box-shadow: 0px 1px 3px 1px rgba(0, 0, 0, 0.15);\n",
              "      filter: drop-shadow(0px 1px 2px rgba(0, 0, 0, 0.3));\n",
              "      fill: #FFFFFF;\n",
              "    }\n",
              "  </style>\n",
              "\n",
              "      <script>\n",
              "        const buttonEl =\n",
              "          document.querySelector('#df-73d92746-90c6-41c5-a9af-e4466ee6f24a button.colab-df-convert');\n",
              "        buttonEl.style.display =\n",
              "          google.colab.kernel.accessAllowed ? 'block' : 'none';\n",
              "\n",
              "        async function convertToInteractive(key) {\n",
              "          const element = document.querySelector('#df-73d92746-90c6-41c5-a9af-e4466ee6f24a');\n",
              "          const dataTable =\n",
              "            await google.colab.kernel.invokeFunction('convertToInteractive',\n",
              "                                                     [key], {});\n",
              "          if (!dataTable) return;\n",
              "\n",
              "          const docLinkHtml = 'Like what you see? Visit the ' +\n",
              "            '<a target=\"_blank\" href=https://colab.research.google.com/notebooks/data_table.ipynb>data table notebook</a>'\n",
              "            + ' to learn more about interactive tables.';\n",
              "          element.innerHTML = '';\n",
              "          dataTable['output_type'] = 'display_data';\n",
              "          await google.colab.output.renderOutput(dataTable, element);\n",
              "          const docLink = document.createElement('div');\n",
              "          docLink.innerHTML = docLinkHtml;\n",
              "          element.appendChild(docLink);\n",
              "        }\n",
              "      </script>\n",
              "    </div>\n",
              "  </div>\n",
              "  "
            ]
          },
          "metadata": {},
          "execution_count": 146
        }
      ]
    },
    {
      "cell_type": "code",
      "source": [
        "survivors = rf.predict(test_X)\n",
        "survivors"
      ],
      "metadata": {
        "colab": {
          "base_uri": "https://localhost:8080/"
        },
        "id": "wCXnVR1GH9iE",
        "outputId": "a98f8684-5eed-427e-9ef3-b694129d1405"
      },
      "execution_count": 147,
      "outputs": [
        {
          "output_type": "execute_result",
          "data": {
            "text/plain": [
              "array([0, 0, 0, 1, 0, 0, 1, 0, 0, 0, 0, 0, 1, 0, 1, 1, 0, 1, 0, 0, 0, 1,\n",
              "       1, 1, 1, 0, 1, 1, 0, 0, 0, 0, 0, 0, 1, 1, 0, 1, 0, 0, 0, 0, 0, 1,\n",
              "       1, 0, 0, 0, 1, 0, 0, 1, 1, 1, 1, 0, 0, 0, 0, 1, 0, 0, 0, 0, 1, 1,\n",
              "       0, 0, 0, 1, 0, 0, 0, 0, 1, 1, 0, 1, 0, 0, 1, 0, 1, 0, 0, 0, 1, 1,\n",
              "       1, 1, 0, 0, 1, 0, 0, 0, 1, 0, 1, 0, 1, 0, 0, 0, 1, 0, 0, 0, 0, 0,\n",
              "       0, 1, 1, 0, 1, 0, 0, 1, 0, 1, 1, 0, 1, 0, 0, 1, 0, 1, 0, 0, 1, 0,\n",
              "       0, 0, 0, 0, 0, 0, 0, 0, 0, 1, 0, 0, 1, 0, 0, 0, 0, 0, 1, 0, 0, 0,\n",
              "       0, 0, 1, 0, 1, 1, 1, 1, 1, 0, 0, 0, 0, 0, 1, 1, 0, 0, 0, 0, 0, 1,\n",
              "       1, 0, 1, 1, 0, 0, 1, 0, 1, 0, 1, 0, 0, 0, 0, 0, 1, 0, 1, 0, 1, 1,\n",
              "       0, 0, 1, 1, 1, 1, 0, 0, 0, 0, 1, 0, 1, 0, 0, 1, 0, 1, 1, 0, 1, 0,\n",
              "       1, 0, 1, 0, 0, 1, 0, 1, 0, 0, 0, 1, 0, 0, 1, 0, 0, 1, 1, 1, 1, 1,\n",
              "       0, 0, 0, 1, 1, 0, 1, 0, 1, 0, 1, 0, 1, 0, 0, 0, 1, 0, 0, 0, 1, 1,\n",
              "       1, 0, 0, 0, 0, 0, 0, 0, 1, 1, 0, 1, 0, 0, 0, 0, 0, 1, 1, 1, 1, 0,\n",
              "       0, 0, 0, 0, 0, 1, 0, 0, 0, 0, 1, 0, 0, 0, 1, 1, 0, 0, 1, 1, 1, 1,\n",
              "       0, 0, 0, 1, 0, 0, 1, 1, 0, 0, 1, 0, 0, 0, 0, 0, 1, 0, 1, 0, 0, 0,\n",
              "       1, 0, 0, 1, 1, 0, 0, 0, 0, 0, 0, 1, 0, 1, 0, 0, 0, 1, 0, 1, 1, 0,\n",
              "       0, 0, 1, 1, 1, 0, 0, 1, 0, 1, 1, 1, 1, 0, 0, 1, 1, 1, 0, 1, 1, 0,\n",
              "       1, 1, 0, 0, 0, 0, 0, 1, 0, 1, 0, 1, 0, 0, 0, 0, 1, 1, 0, 0, 0, 1,\n",
              "       0, 1, 0, 0, 1, 0, 1, 1, 1, 1, 0, 0, 1, 1, 1, 1, 0, 0, 1, 0, 0, 1])"
            ]
          },
          "metadata": {},
          "execution_count": 147
        }
      ]
    },
    {
      "cell_type": "markdown",
      "source": [
        "I got **73.923%** cn submitting Survival_prediction.csv in kaggle "
      ],
      "metadata": {
        "id": "ujNlKCvKkyiX"
      }
    },
    {
      "cell_type": "markdown",
      "source": [
        "![kaggle.png](data:image/png;base64,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)"
      ],
      "metadata": {
        "id": "EiQjZsYRltpD"
      }
    }
  ]
}